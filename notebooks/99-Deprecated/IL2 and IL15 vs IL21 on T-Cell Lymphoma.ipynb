{
 "cells": [
  {
   "cell_type": "markdown",
   "id": "9932d368",
   "metadata": {},
   "source": [
    "# 0. Prep the Environment"
   ]
  },
  {
   "cell_type": "code",
   "execution_count": null,
   "id": "1118cdee",
   "metadata": {},
   "outputs": [],
   "source": [
    "import os, gzip, glob, shutil, pickle\n",
    "\n",
    "import pandas as pd\n",
    "import numpy as np\n",
    "import matplotlib.pyplot as plt\n",
    "from scipy.stats import pearsonr, f_oneway\n",
    "from statsmodels.stats.multitest import multipletests\n",
    "from statsmodels.stats.multicomp import pairwise_tukeyhsd\n",
    "import plotly.express as px\n",
    "import seaborn as sns\n",
    "from sklearn import decomposition"
   ]
  },
  {
   "cell_type": "code",
   "execution_count": null,
   "id": "a373773f",
   "metadata": {},
   "outputs": [],
   "source": [
    "for gz_fn in glob.glob('../data/*.gz'):\n",
    "    if not os.path.exists(gz_fn[:-3]):\n",
    "        with gzip.open(gz_fn, 'rb') as f_in, open(gz_fn[:-3], 'wb') as f_out:\n",
    "            shutil.copyfileobj(f_in, f_out)"
   ]
  },
  {
   "cell_type": "markdown",
   "id": "769d6c55",
   "metadata": {},
   "source": [
    "# 1. Load File"
   ]
  },
  {
   "cell_type": "code",
   "execution_count": null,
   "id": "6196fe02",
   "metadata": {},
   "outputs": [],
   "source": [
    "present_transcripts_df=pd.read_csv('../Data/expression_by_probe.csv', index_col=0)"
   ]
  },
  {
   "cell_type": "code",
   "execution_count": null,
   "id": "e1ac8c1a",
   "metadata": {},
   "outputs": [],
   "source": [
    "probe_key=pickle.load(open('../Data/probe_key.p', 'rb'))"
   ]
  },
  {
   "cell_type": "code",
   "execution_count": null,
   "id": "b9f9c924",
   "metadata": {},
   "outputs": [],
   "source": [
    "sample_key_abb={\n",
    "    'GSM215347':'Control 1',\n",
    "    'GSM215348':'Control 2',\n",
    "    'GSM215349':'Control 3',\n",
    "    'GSM215350':'Activated with IL2 rep 1',\n",
    "    'GSM215351':'Activated with IL2 rep 2',\n",
    "    'GSM215352':'Activated with IL2 rep 3',\n",
    "    'GSM215353':'Activated with IL15 rep 1',\n",
    "    'GSM215354':'Activated with IL15 rep 2',\n",
    "    'GSM215355':'Activated with IL15 rep 3',\n",
    "    'GSM215356':'Activated with IL21 rep 1',\n",
    "    'GSM215357':'Activated with IL21 rep 2',\n",
    "    'GSM215358':'Activated with IL21 rep 3'\n",
    "}\n",
    "\n",
    "experimental_groups={\n",
    "    'Control': ['GSM215347', 'GSM215348', 'GSM215349'],\n",
    "    'IL2': ['GSM215350', 'GSM215351', 'GSM215352'],\n",
    "    'IL15': ['GSM215353', 'GSM215354', 'GSM215355'],\n",
    "    'IL21': ['GSM215356', 'GSM215357', 'GSM215358'],\n",
    "}"
   ]
  },
  {
   "cell_type": "markdown",
   "id": "c936a26a",
   "metadata": {},
   "source": [
    "# 3. PCA"
   ]
  },
  {
   "cell_type": "markdown",
   "id": "38a25bd9",
   "metadata": {},
   "source": [
    "Principal Component Analysis is a popular method of visualizing variance in gene expression data and has many uses in statistics and machine learning. If you want to know more about PCA, this [excerpt from the Python Data Science Handbook by Jake VanderPlas](https://jakevdp.github.io/PythonDataScienceHandbook/05.09-principal-component-analysis.html) has a nice explanation."
   ]
  },
  {
   "cell_type": "code",
   "execution_count": null,
   "id": "3c63b5b1",
   "metadata": {},
   "outputs": [],
   "source": [
    "pca=decomposition.PCA(n_components=3)\n",
    "components=pca.fit_transform(present_transcripts_df.T.values)\n",
    "components_df=pd.DataFrame(components, index=present_transcripts_df.T.index)"
   ]
  },
  {
   "cell_type": "markdown",
   "id": "eee755bd",
   "metadata": {},
   "source": [
    "We want a high combined explained variance ratio. If there we can't get a high explained variance ratio within the first 2-3 components, we should choose a different method"
   ]
  },
  {
   "cell_type": "code",
   "execution_count": null,
   "id": "1c1baa73",
   "metadata": {},
   "outputs": [],
   "source": [
    "pca.explained_variance_ratio_"
   ]
  },
  {
   "cell_type": "code",
   "execution_count": null,
   "id": "201e6e5d",
   "metadata": {},
   "outputs": [],
   "source": [
    "pca.explained_variance_ratio_.sum()"
   ]
  },
  {
   "cell_type": "code",
   "execution_count": null,
   "id": "9126beec",
   "metadata": {},
   "outputs": [],
   "source": [
    "components_df"
   ]
  },
  {
   "cell_type": "markdown",
   "id": "f1b0a363",
   "metadata": {},
   "source": [
    "### 3D Scatterplot - visualize PCA"
   ]
  },
  {
   "cell_type": "code",
   "execution_count": null,
   "id": "3e4d1eed",
   "metadata": {},
   "outputs": [],
   "source": [
    "from sciomics_functions import grouped_scatterplot_3d"
   ]
  },
  {
   "cell_type": "markdown",
   "id": "6b250a64",
   "metadata": {},
   "source": [
    "With 3 components, we can visualize them in three dimensions or two with a simple scatterplot showing different components as the axes."
   ]
  },
  {
   "cell_type": "code",
   "execution_count": null,
   "id": "9c9c2936",
   "metadata": {},
   "outputs": [],
   "source": [
    "grouped_scatterplot_3d(components_df, experimental_groups, 'rgyb', '../results/3d_pca.png')"
   ]
  },
  {
   "cell_type": "code",
   "execution_count": null,
   "id": "62f9a034",
   "metadata": {
    "scrolled": true
   },
   "outputs": [],
   "source": [
    "# Make a bunch of 2D scatterplots instead of one 3D scatterplot\n",
    "\n",
    "for combo in [(0,1), (0,2), (1,2)]:\n",
    "    \n",
    "    fig=plt.figure(figsize=(5,5), dpi=100)\n",
    "    ax=fig.gca()\n",
    "    \n",
    "    #Go through each experimental group and plot in a different color\n",
    "    for i, j in zip(experimental_groups, 'rygb'):\n",
    "        \n",
    "        xs=components_df.loc[experimental_groups[i], combo[0]].values\n",
    "        ys=components_df.loc[experimental_groups[i], combo[1]].values\n",
    "    \n",
    "        ax.scatter(xs, ys, c=j, s=400)\n",
    "        fig.savefig('../results/2d_pca_{}.png'.format(combo))"
   ]
  },
  {
   "cell_type": "markdown",
   "id": "d2d19f21",
   "metadata": {},
   "source": [
    "# 4. One-way ANOVA/F-test on 4 conditions"
   ]
  },
  {
   "cell_type": "markdown",
   "id": "b4152f8a",
   "metadata": {},
   "source": [
    "We need to change the format of our data into a format that statistical analysis functions can accept. Different functions take data in different forms. To find out what format you need to change your data to, read the documentation for the function. In this case, we are using statsmodel's [one way ANOVA F-test](https://docs.scipy.org/doc/scipy/reference/generated/scipy.stats.f_oneway.html)."
   ]
  },
  {
   "cell_type": "code",
   "execution_count": null,
   "id": "dce50313",
   "metadata": {},
   "outputs": [],
   "source": [
    "#Separate expression dataframe by experimental groups \n",
    "experimental_groups_expression={}\n",
    "for condition in experimental_groups:\n",
    "    experimental_groups_expression[condition]=present_transcripts_df[experimental_groups[condition]].T"
   ]
  },
  {
   "cell_type": "code",
   "execution_count": null,
   "id": "35a76899",
   "metadata": {},
   "outputs": [],
   "source": [
    "F, p=f_oneway(experimental_groups_expression['Control'], \n",
    "               experimental_groups_expression['IL2'],\n",
    "               experimental_groups_expression['IL15'],\n",
    "               experimental_groups_expression['IL21'], axis=0)"
   ]
  },
  {
   "cell_type": "code",
   "execution_count": null,
   "id": "3cdbd758",
   "metadata": {
    "scrolled": true
   },
   "outputs": [],
   "source": [
    "len(F)"
   ]
  },
  {
   "cell_type": "code",
   "execution_count": null,
   "id": "a52fea46",
   "metadata": {},
   "outputs": [],
   "source": [
    "transcripts=list(present_transcripts_df.index)\n",
    "\n",
    "F_p_df=pd.DataFrame(index=transcripts, data=zip(F, p), columns=['F', 'p'])"
   ]
  },
  {
   "cell_type": "code",
   "execution_count": null,
   "id": "c36c8312",
   "metadata": {},
   "outputs": [],
   "source": [
    "#Dataframe with f statistic and p-value\n",
    "F_p_df"
   ]
  },
  {
   "cell_type": "markdown",
   "id": "c887df3b",
   "metadata": {},
   "source": [
    "# 5. Benjamini-Hochberg step up correction"
   ]
  },
  {
   "cell_type": "markdown",
   "id": "f2d8e631",
   "metadata": {},
   "source": [
    "This step is necessary to correct for multiple comparisons"
   ]
  },
  {
   "cell_type": "code",
   "execution_count": null,
   "id": "1c487c90",
   "metadata": {},
   "outputs": [],
   "source": [
    "bh=multipletests(p, alpha=0.01, method='fdr_bh')\n",
    "F_p_df['reject null']=bh[0]\n",
    "F_p_df['corrected p']=bh[1]"
   ]
  },
  {
   "cell_type": "code",
   "execution_count": null,
   "id": "d92c73b8",
   "metadata": {},
   "outputs": [],
   "source": [
    "diff_exp_genes_df=F_p_df.loc[F_p_df['reject null']]"
   ]
  },
  {
   "cell_type": "code",
   "execution_count": null,
   "id": "d2a25b40",
   "metadata": {},
   "outputs": [],
   "source": [
    "diff_exp_genes_list=list(diff_exp_genes_df.index)"
   ]
  },
  {
   "cell_type": "code",
   "execution_count": null,
   "id": "068b7e0b",
   "metadata": {},
   "outputs": [],
   "source": [
    "len(diff_exp_genes_list)"
   ]
  },
  {
   "cell_type": "markdown",
   "id": "8f784691",
   "metadata": {},
   "source": [
    "# 5. Diff-exp A: Filter by fold change (No post-hoc)"
   ]
  },
  {
   "cell_type": "markdown",
   "id": "a0f0a443",
   "metadata": {},
   "source": [
    "## Calculating fold change vs control\n",
    "Fold change is simply the value of the second condition divided by the value of the first condition."
   ]
  },
  {
   "cell_type": "code",
   "execution_count": null,
   "id": "e3acabf6",
   "metadata": {},
   "outputs": [],
   "source": [
    "#Calculate mean by experimental group\n",
    "condition_means={}\n",
    "condition_means_diffexp={}\n",
    "\n",
    "for i in experimental_groups:\n",
    "    condition_means_diffexp[i]=present_transcripts_df.loc[diff_exp_genes_list,experimental_groups[i]].T.mean()\n",
    "    condition_means[i]=present_transcripts_df.loc[:, experimental_groups[i]].T.mean()    \n",
    "    \n",
    "condition_means_df=pd.DataFrame(condition_means)\n",
    "condition_means_diffexp_df=pd.DataFrame(condition_means_diffexp)"
   ]
  },
  {
   "cell_type": "code",
   "execution_count": null,
   "id": "9a69dc7c",
   "metadata": {},
   "outputs": [],
   "source": [
    "#Calculate fold change\n",
    "fold_change_dict={}\n",
    "for i in condition_means_df:\n",
    "    fold_change_dict[i]=(condition_means_df[i]/condition_means_df['Control'])\n",
    "fold_change_df=pd.DataFrame(fold_change_dict)"
   ]
  },
  {
   "cell_type": "code",
   "execution_count": null,
   "id": "2941de83",
   "metadata": {},
   "outputs": [],
   "source": [
    "fold_change_df"
   ]
  },
  {
   "cell_type": "markdown",
   "id": "e76a2183",
   "metadata": {},
   "source": [
    "## Filter for fold change magnitude"
   ]
  },
  {
   "cell_type": "code",
   "execution_count": null,
   "id": "7412dfa1",
   "metadata": {},
   "outputs": [],
   "source": [
    "diffexp_fold_change={}\n",
    "\n",
    "for i in fold_change_df:\n",
    "    \n",
    "    if not i=='Control':\n",
    "        diffexp_fold_change[i]={'up':[],\n",
    "                      'dn':[]}\n",
    "        \n",
    "        #Filter for significance\n",
    "        for j in diff_exp_genes_list:\n",
    "            \n",
    "            fold_change=fold_change_df.loc[j, i]\n",
    "            \n",
    "            if fold_change > 2:\n",
    "                diffexp_fold_change[i]['up'].append(j)\n",
    "                \n",
    "            elif fold_change < 0.5:\n",
    "                diffexp_fold_change[i]['dn'].append(j)"
   ]
  },
  {
   "cell_type": "code",
   "execution_count": null,
   "id": "712f0dfa",
   "metadata": {},
   "outputs": [],
   "source": [
    "#Count of how many differentially expressed probes up and downregulated in each group\n",
    "\n",
    "print(\"Differentially expressed probes in each group:\")\n",
    "for i in diffexp_fold_change:\n",
    "    for j in diffexp_fold_change[i]:\n",
    "        print ('{}_{}: {}'.format(i, j, len(diffexp_fold_change[i][j])))"
   ]
  },
  {
   "cell_type": "code",
   "execution_count": null,
   "id": "94c6428f",
   "metadata": {},
   "outputs": [],
   "source": [
    "#Map probe names to gene names\n",
    "\n",
    "diffexp_genes_fold_change={}\n",
    "\n",
    "for condition in diffexp_fold_change:\n",
    "    \n",
    "    diffexp_genes_fold_change[condition]={}\n",
    "    \n",
    "    for up_or_dn in diffexp_fold_change[condition]:\n",
    "        \n",
    "        #There are probes that map to multiple gene symbols, so we use nested list comprehension and change it to a \n",
    "        #set to remove duplicates\n",
    "        \n",
    "        diffexp_genes_fold_change[condition][up_or_dn]=set([gene for i in diffexp_fold_change[condition][up_or_dn] \n",
    "                                                        for gene in probe_key[i]])"
   ]
  },
  {
   "cell_type": "code",
   "execution_count": null,
   "id": "ec044dce",
   "metadata": {},
   "outputs": [],
   "source": [
    "print(\"Differentially expressed genes in each group\")\n",
    "\n",
    "for i in diffexp_genes_fold_change:\n",
    "    for j in diffexp_genes_fold_change[i]:\n",
    "        print('{}_{}: {}'.format(i, j, len(diffexp_genes_fold_change[i][j])))"
   ]
  },
  {
   "cell_type": "markdown",
   "id": "381fd198",
   "metadata": {},
   "source": [
    "# Calculate Pearson Correlation"
   ]
  },
  {
   "cell_type": "code",
   "execution_count": null,
   "id": "cf46085d",
   "metadata": {},
   "outputs": [],
   "source": [
    "from sciomics_functions import matrix_pearson"
   ]
  },
  {
   "cell_type": "code",
   "execution_count": null,
   "id": "4f53b8fd",
   "metadata": {},
   "outputs": [],
   "source": [
    "pearson, p=matrix_pearson(present_transcripts_df)"
   ]
  },
  {
   "cell_type": "code",
   "execution_count": null,
   "id": "1bf19c26",
   "metadata": {},
   "outputs": [],
   "source": [
    "pearson.columns=[sample_key_abb[i] for i in pearson.columns]\n",
    "\n",
    "pearson.index=pearson.columns"
   ]
  },
  {
   "cell_type": "code",
   "execution_count": null,
   "id": "40e34e61",
   "metadata": {},
   "outputs": [],
   "source": [
    "sns.heatmap(pearson)\n",
    "plt.savefig('../results/Pearson_clustermap.png')"
   ]
  },
  {
   "cell_type": "markdown",
   "id": "e31b2911",
   "metadata": {},
   "source": [
    "# Compare with Gene Sets\n",
    "This study produced 20 gene sets on the Molecular Signatures Database (MSigDB). We can get the genes from those gene sets and compare them to the genes we found to be differentially expressed"
   ]
  },
  {
   "cell_type": "code",
   "execution_count": null,
   "id": "123f13f2",
   "metadata": {},
   "outputs": [],
   "source": [
    "#Keeping track of what condition each gene set measures, since the names are confusing\n",
    "\n",
    "gene_sets={\n",
    "    'GSE8685_IL15_ACT_IL2_STARVED_VS_IL21_ACT_IL2_STARVED_CD4_TCELL_UP': 'IL15_IL21_up',\n",
    "    'GSE8685_IL15_ACT_IL2_STARVED_VS_IL21_ACT_IL2_STARVED_CD4_TCELL_DN': 'IL15_IL21_dn',\n",
    "    'GSE8685_IL2_ACT_IL2_STARVED_VS_IL15_ACT_IL2_STARVED_CD4_TCELL_DN': 'IL15_Control_dn',\n",
    "    'GSE8685_IL2_ACT_IL2_STARVED_VS_IL15_ACT_IL2_STARVED_CD4_TCELL_UP': 'IL15_Control_up',\n",
    "    'GSE8685_IL2_ACT_IL2_STARVED_VS_IL21_ACT_IL2_STARVED_CD4_TCELL_DN': 'IL2_IL21_dn',\n",
    "    'GSE8685_IL2_ACT_IL2_STARVED_VS_IL21_ACT_IL2_STARVED_CD4_TCELL_UP': 'IL2_IL21_up',\n",
    "    'GSE8685_IL2_STARVED_VS_IL15_ACT_IL2_STARVED_CD4_TCELL_DN': 'IL15_Control_dn',\n",
    "    'GSE8685_IL2_STARVED_VS_IL15_ACT_IL2_STARVED_CD4_TCELL_UP': 'IL15_Control_up',\n",
    "    'GSE8685_IL2_STARVED_VS_IL21_ACT_IL2_STARVED_CD4_TCELL_DN': 'IL21_Control_dn',\n",
    "    'GSE8685_IL2_STARVED_VS_IL21_ACT_IL2_STARVED_CD4_TCELL_UP': 'IL21_Control_up',\n",
    "    'GSE8685_IL2_STARVED_VS_IL2_ACT_IL2_STARVED_CD4_TCELL_DN': 'IL2_Control_dn',\n",
    "    'GSE8685_IL2_STARVED_VS_IL2_ACT_IL2_STARVED_CD4_TCELL_UP': 'IL2_Control_up',\n",
    "    'IL15_UP.V1_DN':'IL15_Control_dn',\n",
    "    'IL15_UP.V1_UP':'IL15_Control_up',\n",
    "    'IL21_UP.V1_DN':'IL21_Control_dn',\n",
    "    'IL21_UP.V1_UP':'IL21_Control_up',\n",
    "    'IL2_UP.V1_DN':'IL2_Control_dn',\n",
    "    'IL2_UP.V1_UP':'IL2_Control_up',\n",
    "    'MARZEC_IL2_SIGNALING_DN': 'IL2_Control_dn',\n",
    "    'MARZEC_IL2_SIGNALING_UP':'IL2_Control_up',\n",
    "}"
   ]
  },
  {
   "cell_type": "code",
   "execution_count": null,
   "id": "5f0ecbe5",
   "metadata": {},
   "outputs": [],
   "source": [
    "# Load python dictionary containing each gene set's genes\n",
    "gene_sets_dict=pickle.load(open('../data/msigdb_marzec_gene_sets.p', 'rb'))"
   ]
  },
  {
   "cell_type": "code",
   "execution_count": null,
   "id": "0eb3d996",
   "metadata": {},
   "outputs": [],
   "source": [
    "from matplotlib_venn import venn2"
   ]
  },
  {
   "cell_type": "code",
   "execution_count": null,
   "id": "92d66358",
   "metadata": {
    "scrolled": true
   },
   "outputs": [],
   "source": [
    "for gene_set in gene_sets:\n",
    "    condition=gene_sets[gene_set].split('_')\n",
    "    up_or_dn=condition[2]\n",
    "    if condition[1] == 'Control':\n",
    "        \n",
    "        \n",
    "        gene_set_genes=set(gene_sets_dict[gene_set])\n",
    "        diff_exp_genes=set(diffexp_genes_fold_change[condition[0]][up_or_dn])\n",
    "        \n",
    "        #Plot venn diagram\n",
    "        fig=plt.figure()\n",
    "        ax=plt.gca()\n",
    "        venn2([gene_set_genes, diff_exp_genes], set_labels=[gene_set, 'our genes'], ax=ax)"
   ]
  },
  {
   "cell_type": "markdown",
   "id": "5f8d876a",
   "metadata": {},
   "source": [
    "# Diff-exp B: Post-Hoc Analysis by using Pairwise Tukey\n",
    "An F-test will tell us whether there is a significant difference across several conditions, but it doesn't tell us which conditions are different. Typically we want to do a post hoc test to tell us which conditions are significantly different from one another."
   ]
  },
  {
   "cell_type": "code",
   "execution_count": null,
   "id": "c70af0d2",
   "metadata": {},
   "outputs": [],
   "source": [
    "from sciomics_functions import tukeyhsd_get_significant_comparisons"
   ]
  },
  {
   "cell_type": "code",
   "execution_count": null,
   "id": "4565e952",
   "metadata": {},
   "outputs": [],
   "source": [
    "\n",
    "post_hoc_diff_dict={}\n",
    "post_hoc_dict={}\n",
    "\n",
    "for transcript in diff_exp_genes_list:\n",
    "    \n",
    "    #Statsmodels' pairwise_tukeyhsd returns very difficult to interpret results, so we have another function to extrac the \n",
    "    #relevant information from these results\n",
    "    tukey_summary=pairwise_tukeyhsd(present_transcripts_df.loc[transcript].to_numpy(), ['Control']*3+['IL2']*3+['IL15']*3+['IL21']*3, alpha=0.01)\n",
    "    \n",
    "    tukey_results=tukeyhsd_get_significant_comparisons(tukey_summary, include_CI=True)\n",
    "    \n",
    "    #We also want the non significant comparisons so we can make a volcano plot later\n",
    "    tukey_results_w_rejected=tukeyhsd_get_significant_comparisons(tukey_summary, include_CI=True, only_sig_comparisons=False)\n",
    "    \n",
    "    #Make df with only significant results so we can look at them\n",
    "    for comparison in tukey_results.index:\n",
    "        if not comparison in post_hoc_diff_dict:\n",
    "            post_hoc_diff_dict[comparison]={}\n",
    "        post_hoc_diff_dict[comparison][transcript]=tukey_results.loc[comparison, 'p-adj']        \n",
    "    post_hoc_diff_df=pd.DataFrame(post_hoc_diff_dict)\n",
    "    \n",
    "    #Make a df with rejected transcript included for later volcano plots    \n",
    "    for comparison in tukey_results_w_rejected.index:\n",
    "        if not comparison in post_hoc_dict:\n",
    "            post_hoc_dict[comparison]={}\n",
    "        post_hoc_dict[comparison][transcript]=tukey_results_w_rejected.loc[comparison, 'p-adj']\n",
    "    post_hoc_df=pd.DataFrame(post_hoc_dict)"
   ]
  },
  {
   "cell_type": "code",
   "execution_count": null,
   "id": "52839a79",
   "metadata": {},
   "outputs": [],
   "source": [
    "print(\"Significant differentially expressed genes after post hoc analysis:\")\n",
    "\n",
    "for condition in post_hoc_diff_dict:\n",
    "    print('{}: {} genes'.format(condition, len(post_hoc_diff_dict[condition])))"
   ]
  },
  {
   "cell_type": "markdown",
   "id": "a68f69be",
   "metadata": {},
   "source": [
    "### Filter for Fold Change 2 or higher"
   ]
  },
  {
   "cell_type": "code",
   "execution_count": null,
   "id": "fcacf143",
   "metadata": {},
   "outputs": [],
   "source": [
    "post_hoc_fold_change_dict={}\n",
    "\n",
    "#Do for each comparison\n",
    "for comparison in post_hoc_diff_dict:\n",
    "    \n",
    "    condA=comparison.split('_')[0]\n",
    "    condB=comparison.split('_')[1]\n",
    "    \n",
    "    #Calculate fold change\n",
    "    post_hoc_fold_change_dict[comparison]=(present_transcripts_df.loc[:,experimental_groups[condB]].T.mean()/present_transcripts_df.loc[:,experimental_groups[condA]].T.mean())\n",
    "post_hoc_fold_change_df=pd.DataFrame(post_hoc_fold_change_dict)"
   ]
  },
  {
   "cell_type": "code",
   "execution_count": null,
   "id": "82b1292b",
   "metadata": {},
   "outputs": [],
   "source": [
    "diffexp_fold_change_ph={}\n",
    "  \n",
    "for condition in post_hoc_diff_dict:\n",
    "\n",
    "    diffexp_fold_change_ph[condition]={\n",
    "        'up':[],\n",
    "        'dn':[]\n",
    "    }\n",
    "    for transcript in post_hoc_diff_dict[condition]:\n",
    "        \n",
    "        #Note that this fold change is for condition 2 relative to condition 1 in 1_2\n",
    "        fold_change=post_hoc_fold_change_df.loc[transcript, condition]\n",
    "        if fold_change > 2:\n",
    "            diffexp_fold_change_ph[condition]['up'].append(transcript)\n",
    "\n",
    "        elif fold_change < 0.5:\n",
    "            diffexp_fold_change_ph[condition]['dn'].append(transcript)\n"
   ]
  },
  {
   "cell_type": "code",
   "execution_count": null,
   "id": "a9250048",
   "metadata": {},
   "outputs": [],
   "source": [
    "#Change probe names to gene names\n",
    "\n",
    "diffexp_genes_fold_change_ph={}\n",
    "\n",
    "for condition in diffexp_fold_change_ph:\n",
    "    \n",
    "    diffexp_genes_fold_change_ph[condition]={}\n",
    "    \n",
    "    for up_or_dn in diffexp_fold_change_ph[condition]:\n",
    "        \n",
    "        #There are probes that map to multiple gene symbols, so we use nested list comprehension and change it to a \n",
    "        #set to remove duplicates\n",
    "        diffexp_genes_fold_change_ph[condition][up_or_dn]=set([gene for i in diffexp_fold_change_ph[condition][up_or_dn] \n",
    "                                                        for gene in probe_key[i]])"
   ]
  },
  {
   "cell_type": "code",
   "execution_count": null,
   "id": "c9559537",
   "metadata": {},
   "outputs": [],
   "source": [
    "for condition in diffexp_genes_fold_change_ph:\n",
    "    for up_or_dn in diffexp_genes_fold_change_ph[condition]:\n",
    "        print('{}_{}: {} genes'.format(condition, up_or_dn, len(diffexp_genes_fold_change_ph[condition][up_or_dn])))"
   ]
  },
  {
   "cell_type": "markdown",
   "id": "1bcff81d",
   "metadata": {},
   "source": [
    "## Compare with gene sets"
   ]
  },
  {
   "cell_type": "code",
   "execution_count": null,
   "id": "b367df15",
   "metadata": {},
   "outputs": [],
   "source": [
    "gene_sets"
   ]
  },
  {
   "cell_type": "code",
   "execution_count": null,
   "id": "8822808d",
   "metadata": {
    "scrolled": true
   },
   "outputs": [],
   "source": [
    "for gene_set in gene_sets:\n",
    "    condition=gene_sets[gene_set].split('_')\n",
    "    up_or_dn=condition[2]\n",
    "    \n",
    "    #Only comparing fold change from control\n",
    "    if condition[1] == 'Control':\n",
    "        \n",
    "        gene_set_genes=set(gene_sets_dict[gene_set])\n",
    "        diff_exp_genes=set(diffexp_genes_fold_change_ph['{}_{}'.format(condition[1], condition[0])][up_or_dn])\n",
    "\n",
    "        #Plot venn diagrams\n",
    "        fig=plt.figure()\n",
    "        ax=plt.gca()\n",
    "        venn2([gene_set_genes, diff_exp_genes], set_labels=[gene_set, 'our genes'], ax=ax)"
   ]
  },
  {
   "cell_type": "markdown",
   "id": "9012f999",
   "metadata": {},
   "source": [
    "# Compare ANOVA with no post-hoc analysis to ANVOA with post-hoc analysis (Remove ?)"
   ]
  },
  {
   "cell_type": "code",
   "execution_count": null,
   "id": "9d1e1a8c",
   "metadata": {
    "scrolled": true
   },
   "outputs": [],
   "source": [
    "for comparison in diffexp_fold_change_ph:\n",
    "    condition=comparison.split('_')\n",
    "    if condition[0]=='Control':\n",
    "        for up_or_dn in ['up', 'dn']:\n",
    "        \n",
    "            deg_a=set(diffexp_fold_change[condition[1]][up_or_dn])\n",
    "            deg_b=set(diffexp_fold_change_ph[comparison][up_or_dn])\n",
    "            \n",
    "            print('{}_{}'.format(comparison, up_or_dn))\n",
    "            \n",
    "            fig=plt.figure()\n",
    "            ax=plt.gca()\n",
    "            venn2([deg_a, deg_b], set_labels=['No post-hoc', 'With post-hoc'], ax=ax)            "
   ]
  },
  {
   "cell_type": "markdown",
   "id": "1619edf3",
   "metadata": {},
   "source": [
    "# Create Volcano Plots (Using post-hoc p-values)"
   ]
  },
  {
   "cell_type": "code",
   "execution_count": null,
   "id": "25c263c4",
   "metadata": {},
   "outputs": [],
   "source": [
    "#For each condition, make a dataframe with the log(fold change) and -log(p) from the post hoc p-value\n",
    "for condition in post_hoc_fold_change_df:\n",
    "    \n",
    "    volcano_plot_df=pd.DataFrame([pd.Series(np.log2(post_hoc_fold_change_df[condition]), name='log2(Fold Change)'), \n",
    "                                  pd.Series(-np.log10(post_hoc_df[condition]), name='-log(p)')]\n",
    "                                 )\n",
    "    \n",
    "    #volcano_plot_df.columns=[probe_key[i] for i in volcano_plot_df.columns]\n",
    "    \n",
    "    volcano_plot_df=volcano_plot_df.T\n",
    "    \n",
    "    volcano_plot_df['hover_text_labels']=volcano_plot_df.index\n",
    "    \n",
    "    fig=px.scatter(volcano_plot_df, x='log2(Fold Change)', y='-log(p)', hover_data=['hover_text_labels'], title=condition)\n",
    "    fig.show()"
   ]
  },
  {
   "cell_type": "markdown",
   "id": "4c1ab55c",
   "metadata": {},
   "source": [
    "# Probe IL2/15/21 Essentiality in DepMap/CCLE"
   ]
  },
  {
   "cell_type": "code",
   "execution_count": null,
   "id": "a4c7fc6c",
   "metadata": {},
   "outputs": [],
   "source": [
    "dm_sample_info=pd.read_csv('../data/dm_sample_info.csv', index_col=0)\n",
    "dm_gene_expression=pd.read_csv('../data/CCLE_expression.csv', index_col=0)"
   ]
  },
  {
   "cell_type": "code",
   "execution_count": null,
   "id": "314adf84",
   "metadata": {},
   "outputs": [],
   "source": [
    "#cks stands for cytokines\n",
    "cks=['IL2', 'IL15', 'IL21']"
   ]
  },
  {
   "cell_type": "code",
   "execution_count": null,
   "id": "2d6f2835",
   "metadata": {},
   "outputs": [],
   "source": [
    "lineage=dm_sample_info['lineage']"
   ]
  },
  {
   "cell_type": "code",
   "execution_count": null,
   "id": "a166abe9",
   "metadata": {},
   "outputs": [],
   "source": [
    "dm_gene_expression.columns=[i.split(' ')[0] for i in dm_gene_expression.columns]"
   ]
  },
  {
   "cell_type": "code",
   "execution_count": null,
   "id": "5dd1d520",
   "metadata": {},
   "outputs": [],
   "source": [
    "dm_gene_expression_oi=dm_gene_expression.loc[:,cks]"
   ]
  },
  {
   "cell_type": "code",
   "execution_count": null,
   "id": "9c14a30f",
   "metadata": {},
   "outputs": [],
   "source": [
    "dependency=pd.read_csv('../data/CRISPR_gene_dependency.csv', index_col=0)"
   ]
  },
  {
   "cell_type": "code",
   "execution_count": null,
   "id": "ce5615a6",
   "metadata": {},
   "outputs": [],
   "source": [
    "dependency"
   ]
  },
  {
   "cell_type": "markdown",
   "id": "c546bf45",
   "metadata": {},
   "source": [
    "### Make one histogram with all cytokines"
   ]
  },
  {
   "cell_type": "code",
   "execution_count": null,
   "id": "f9d4c954",
   "metadata": {},
   "outputs": [],
   "source": [
    "#append values into a format plotly express will take\n",
    "\n",
    "values=[]\n",
    "labels=[]\n",
    "index=[]\n",
    "\n",
    "for ck in cks:\n",
    "    values+=[*dm_gene_expression[ck].values]\n",
    "    labels+=[ck]*dm_gene_expression[ck].shape[0]"
   ]
  },
  {
   "cell_type": "code",
   "execution_count": null,
   "id": "c5209c67",
   "metadata": {},
   "outputs": [],
   "source": [
    "big_px_df=pd.DataFrame([values, labels], index=['gene_expression', 'gene'], dtype=float)"
   ]
  },
  {
   "cell_type": "code",
   "execution_count": null,
   "id": "36fb4e5f",
   "metadata": {},
   "outputs": [],
   "source": [
    "px.histogram(data_frame=big_px_df.T, x='gene_expression', color='gene', barmode='overlay', title=\"Average Cytokine Gene Expression\")"
   ]
  },
  {
   "cell_type": "code",
   "execution_count": null,
   "id": "217dedf7",
   "metadata": {},
   "outputs": [],
   "source": [
    "dm_gene_expression"
   ]
  },
  {
   "cell_type": "code",
   "execution_count": null,
   "id": "bf9b16a3",
   "metadata": {},
   "outputs": [],
   "source": [
    "#Group by mean gene expression p\n",
    "dm_ge_x_lineage=dm_gene_expression.groupby(lineage).mean()"
   ]
  },
  {
   "cell_type": "code",
   "execution_count": null,
   "id": "fa0e7021",
   "metadata": {},
   "outputs": [],
   "source": [
    "values=[]\n",
    "labels=[]\n",
    "index=[]\n",
    "\n",
    "for ck in cks:\n",
    "    values+=[*dm_ge_x_lineage[ck].values]\n",
    "    labels+=[ck]*dm_ge_x_lineage[ck].shape[0]\n",
    "    index+=[*dm_ge_x_lineage.index]"
   ]
  },
  {
   "cell_type": "code",
   "execution_count": null,
   "id": "8a789a23",
   "metadata": {},
   "outputs": [],
   "source": [
    "big_px_df=pd.DataFrame([values, labels, index], index=['average_gene_expression', 'gene', 'tissue_lineage'])"
   ]
  },
  {
   "cell_type": "code",
   "execution_count": null,
   "id": "b0debef9",
   "metadata": {},
   "outputs": [],
   "source": [
    "px.bar(data_frame=big_px_df.T, x='tissue_lineage', y='average_gene_expression', color='gene', barmode='overlay', title='Average Cytokine Gene Expression by Tissue Lineage', height=1000)"
   ]
  },
  {
   "cell_type": "code",
   "execution_count": null,
   "id": "ebb6e9f3",
   "metadata": {},
   "outputs": [],
   "source": [
    "#append values into a format plotly express will take\n",
    "\n",
    "values=[]\n",
    "labels=[]\n",
    "index=[]\n",
    "\n",
    "for ck in cks:\n",
    "    values+=[*dependency[ck].values]\n",
    "    labels+=[ck]*dependency[ck].shape[0]"
   ]
  },
  {
   "cell_type": "code",
   "execution_count": null,
   "id": "7cb1b522",
   "metadata": {},
   "outputs": [],
   "source": [
    "big_px_df=pd.DataFrame([values, labels], index=['gene_dependency_score', 'gene'])"
   ]
  },
  {
   "cell_type": "code",
   "execution_count": null,
   "id": "e6070cc9",
   "metadata": {},
   "outputs": [],
   "source": [
    "px.histogram(data_frame=big_px_df.T, x='gene_dependency_score', color='gene', barmode='overlay', title='Cytokine Gene Dependency Score')"
   ]
  },
  {
   "cell_type": "code",
   "execution_count": null,
   "id": "80250d08",
   "metadata": {},
   "outputs": [],
   "source": [
    "dm_dep_x_lineage=dependency.groupby(lineage).mean()"
   ]
  },
  {
   "cell_type": "code",
   "execution_count": null,
   "id": "59fcbbdc",
   "metadata": {},
   "outputs": [],
   "source": [
    "values=[]\n",
    "labels=[]\n",
    "index=[]\n",
    "\n",
    "for ck in cks:\n",
    "    values+=[*dm_dep_x_lineage[ck].values]\n",
    "    labels+=[ck]*dm_dep_x_lineage[ck].shape[0]\n",
    "    index+=[*dm_dep_x_lineage.index]"
   ]
  },
  {
   "cell_type": "code",
   "execution_count": null,
   "id": "afb3fb8d",
   "metadata": {},
   "outputs": [],
   "source": [
    "big_px_df=pd.DataFrame([values, labels, index], index=['average_gene_dependency', 'gene', 'tissue_lineage'])"
   ]
  },
  {
   "cell_type": "code",
   "execution_count": null,
   "id": "3b131b98",
   "metadata": {},
   "outputs": [],
   "source": [
    "px.bar(data_frame=big_px_df.T, x='tissue_lineage', y='average_gene_dependency', color='gene', barmode='overlay', title='Average Cytokine Gene  Dependency Score by Tissue Lineage', height=1000)"
   ]
  },
  {
   "cell_type": "markdown",
   "id": "c1eb77b2",
   "metadata": {},
   "source": [
    "### or make 3 different histograms - to see different things"
   ]
  },
  {
   "cell_type": "code",
   "execution_count": null,
   "id": "292fbb4b",
   "metadata": {},
   "outputs": [],
   "source": [
    "dm_gene_expression=dm_gene_expression.T"
   ]
  },
  {
   "cell_type": "code",
   "execution_count": null,
   "id": "9bc392f3",
   "metadata": {},
   "outputs": [],
   "source": [
    "for ck in cks:\n",
    "\n",
    "    fig=px.histogram(data_frame=dm_gene_expression.loc[ck].to_frame(), x=ck, range_x=[0,8], nbins=200, title='{}: {}'.format(ck, 'Gene Expression'), labels={ck: 'Gene Expression Value'})\n",
    "\n",
    "    fig.show()\n",
    "    \n",
    "    fig=px.bar(dm_gene_expression.T.groupby(lineage).mean().loc[:, ck], title='Average {} Expression by Tissue Lineage'.format(ck))\n",
    "    fig.show()"
   ]
  },
  {
   "cell_type": "code",
   "execution_count": null,
   "id": "caaf6fc3",
   "metadata": {},
   "outputs": [],
   "source": [
    "dependency=dependency.T"
   ]
  },
  {
   "cell_type": "code",
   "execution_count": null,
   "id": "449bdb5c",
   "metadata": {
    "scrolled": true
   },
   "outputs": [],
   "source": [
    "for ck in cks:\n",
    "\n",
    "    fig=px.histogram(x=dependency.loc[ck].values, range_x=[0,1], nbins=200, title='{}: {}'.format(ck, 'Dependency'))\n",
    "\n",
    "    fig.show()\n",
    "    \n",
    "    fig=px.bar(dependency.T.groupby(lineage).mean().loc[:, ck], title='Average {} Dependency by Tissue Lineage'.format(ck))\n",
    "    fig.show()"
   ]
  }
 ],
 "metadata": {
  "kernelspec": {
   "display_name": "Python 3 (ipykernel)",
   "language": "python",
   "name": "python3"
  },
  "language_info": {
   "codemirror_mode": {
    "name": "ipython",
    "version": 3
   },
   "file_extension": ".py",
   "mimetype": "text/x-python",
   "name": "python",
   "nbconvert_exporter": "python",
   "pygments_lexer": "ipython3",
   "version": "3.9.0"
  }
 },
 "nbformat": 4,
 "nbformat_minor": 5
}
