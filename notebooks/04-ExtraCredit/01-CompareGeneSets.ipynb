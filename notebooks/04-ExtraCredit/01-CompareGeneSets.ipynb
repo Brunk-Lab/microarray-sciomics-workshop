{
 "cells": [
  {
   "cell_type": "markdown",
   "metadata": {},
   "source": [
    "# Compare with Gene Sets"
   ]
  },
  {
   "cell_type": "code",
   "execution_count": null,
   "metadata": {},
   "outputs": [],
   "source": [
    "import json, pickle\n",
    "import pandas as pd\n",
    "import matplotlib.pyplot as plt\n",
    "from matplotlib_venn import venn2"
   ]
  },
  {
   "cell_type": "markdown",
   "metadata": {},
   "source": [
    "## 1. Load Data and Set the Gene Sets"
   ]
  },
  {
   "cell_type": "code",
   "execution_count": null,
   "metadata": {},
   "outputs": [],
   "source": [
    "present_transcripts_df = pd.read_csv('../../data/expression_by_probe.csv', index_col=0)\n",
    "experimental_groups = json.load(open('../../data/experimental_groups.json'))\n",
    "gene_sets_dict = pickle.load(open('../../data/msigdb_marzec_gene_sets.p', 'rb'))\n",
    "diffexp_genes_fold_change_ph = pickle.load(open('../../results/diffexp_genes_fold_change_ph.p', 'rb'))"
   ]
  },
  {
   "cell_type": "code",
   "execution_count": null,
   "metadata": {},
   "outputs": [],
   "source": [
    "# Keeping track of what condition each gene set measures, since the names are confusing\n",
    "gene_sets = {\n",
    "    'GSE8685_IL15_ACT_IL2_STARVED_VS_IL21_ACT_IL2_STARVED_CD4_TCELL_UP': 'IL15_IL21_up',\n",
    "    'GSE8685_IL15_ACT_IL2_STARVED_VS_IL21_ACT_IL2_STARVED_CD4_TCELL_DN': 'IL15_IL21_dn',\n",
    "    'GSE8685_IL2_ACT_IL2_STARVED_VS_IL15_ACT_IL2_STARVED_CD4_TCELL_DN': 'IL15_Control_dn',\n",
    "    'GSE8685_IL2_ACT_IL2_STARVED_VS_IL15_ACT_IL2_STARVED_CD4_TCELL_UP': 'IL15_Control_up',\n",
    "    'GSE8685_IL2_ACT_IL2_STARVED_VS_IL21_ACT_IL2_STARVED_CD4_TCELL_DN': 'IL2_IL21_dn',\n",
    "    'GSE8685_IL2_ACT_IL2_STARVED_VS_IL21_ACT_IL2_STARVED_CD4_TCELL_UP': 'IL2_IL21_up',\n",
    "    'GSE8685_IL2_STARVED_VS_IL15_ACT_IL2_STARVED_CD4_TCELL_DN': 'IL15_Control_dn',\n",
    "    'GSE8685_IL2_STARVED_VS_IL15_ACT_IL2_STARVED_CD4_TCELL_UP': 'IL15_Control_up',\n",
    "    'GSE8685_IL2_STARVED_VS_IL21_ACT_IL2_STARVED_CD4_TCELL_DN': 'IL21_Control_dn',\n",
    "    'GSE8685_IL2_STARVED_VS_IL21_ACT_IL2_STARVED_CD4_TCELL_UP': 'IL21_Control_up',\n",
    "    'GSE8685_IL2_STARVED_VS_IL2_ACT_IL2_STARVED_CD4_TCELL_DN': 'IL2_Control_dn',\n",
    "    'GSE8685_IL2_STARVED_VS_IL2_ACT_IL2_STARVED_CD4_TCELL_UP': 'IL2_Control_up',\n",
    "    'IL15_UP.V1_DN':'IL15_Control_dn',\n",
    "    'IL15_UP.V1_UP':'IL15_Control_up',\n",
    "    'IL21_UP.V1_DN':'IL21_Control_dn',\n",
    "    'IL21_UP.V1_UP':'IL21_Control_up',\n",
    "    'IL2_UP.V1_DN':'IL2_Control_dn',\n",
    "    'IL2_UP.V1_UP':'IL2_Control_up',\n",
    "    'MARZEC_IL2_SIGNALING_DN': 'IL2_Control_dn',\n",
    "    'MARZEC_IL2_SIGNALING_UP':'IL2_Control_up',\n",
    "}"
   ]
  },
  {
   "cell_type": "markdown",
   "metadata": {},
   "source": [
    "## 2. Plot the Gene Set Overlaps"
   ]
  },
  {
   "cell_type": "code",
   "execution_count": null,
   "metadata": {
    "scrolled": true
   },
   "outputs": [],
   "source": [
    "for gene_set in gene_sets:\n",
    "    condition = gene_sets[gene_set].split('_')\n",
    "    up_or_dn = condition[2]\n",
    "    \n",
    "    # Only comparing fold change from control\n",
    "    if condition[1] == 'Control':\n",
    "        # Get the relevant gene sets\n",
    "        gene_set_genes = set(gene_sets_dict[gene_set])\n",
    "        diff_exp_genes = set(diffexp_genes_fold_change_ph[f'{condition[1]}_{condition[0]}'][up_or_dn])\n",
    "\n",
    "        # Plot Venn Diagrams\n",
    "        fig = plt.figure()\n",
    "        ax = plt.gca()\n",
    "        venn2([gene_set_genes, diff_exp_genes], set_labels=[gene_set, 'our genes'], ax=ax)"
   ]
  }
 ],
 "metadata": {
  "kernelspec": {
   "display_name": "Python 3 (ipykernel)",
   "language": "python",
   "name": "python3"
  },
  "language_info": {
   "codemirror_mode": {
    "name": "ipython",
    "version": 3
   },
   "file_extension": ".py",
   "mimetype": "text/x-python",
   "name": "python",
   "nbconvert_exporter": "python",
   "pygments_lexer": "ipython3",
   "version": "3.10.2"
  }
 },
 "nbformat": 4,
 "nbformat_minor": 4
}
