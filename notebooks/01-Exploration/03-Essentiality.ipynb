{
 "cells": [
  {
   "cell_type": "markdown",
   "metadata": {},
   "source": [
    "# Probe IL2/15/21 Essentiality in DepMap/CCLE"
   ]
  },
  {
   "cell_type": "code",
   "execution_count": null,
   "metadata": {},
   "outputs": [],
   "source": [
    "import pandas as pd\n",
    "import plotly.express as px"
   ]
  },
  {
   "cell_type": "markdown",
   "metadata": {},
   "source": [
    "## 1. Load Data and Set Cytokines"
   ]
  },
  {
   "cell_type": "code",
   "execution_count": null,
   "metadata": {},
   "outputs": [],
   "source": [
    "dm_sample_info = pd.read_csv('../../data/dm_sample_info.csv', index_col=0)\n",
    "dm_gene_expression = pd.read_csv('../../data/CCLE_expression.csv', index_col=0)\n",
    "dependency = pd.read_csv('../../data/CRISPR_gene_dependency.csv', index_col=0)\n",
    "CYTOKINES = ['IL2', 'IL15', 'IL21']"
   ]
  },
  {
   "cell_type": "markdown",
   "metadata": {},
   "source": [
    "## 2. Reformat Data to Enable Plotting"
   ]
  },
  {
   "cell_type": "code",
   "execution_count": null,
   "metadata": {},
   "outputs": [],
   "source": [
    "lineage = dm_sample_info['lineage']\n",
    "lineage"
   ]
  },
  {
   "cell_type": "code",
   "execution_count": null,
   "metadata": {},
   "outputs": [],
   "source": [
    "dm_gene_expression.columns = [i.split(' ')[0] for i in dm_gene_expression.columns]\n",
    "dm_gene_expression"
   ]
  },
  {
   "cell_type": "code",
   "execution_count": null,
   "metadata": {},
   "outputs": [],
   "source": [
    "# Plotly Data Formating Fucntion\n",
    "def data_to_plotly(data, cytokines=CYTOKINES):\n",
    "    values = []\n",
    "    labels = []\n",
    "    index = []\n",
    "\n",
    "    for cytokine in cytokines:\n",
    "        values += [*data[cytokine].values]\n",
    "        labels += [cytokine]*data[cytokine].shape[0]\n",
    "        index += [*data.index]\n",
    "\n",
    "    return (values, labels, index)"
   ]
  },
  {
   "cell_type": "markdown",
   "metadata": {},
   "source": [
    "## 3. Make One Histogram with All Cytokines"
   ]
  },
  {
   "cell_type": "code",
   "execution_count": null,
   "metadata": {},
   "outputs": [],
   "source": [
    "# Format the Data\n",
    "values, labels, _ = data_to_plotly(dm_gene_expression)\n",
    "big_px_df = pd.DataFrame([values, labels], index=['gene_expression', 'gene'], dtype=float)\n",
    "big_px_df"
   ]
  },
  {
   "cell_type": "code",
   "execution_count": null,
   "metadata": {},
   "outputs": [],
   "source": [
    "# Make the Graph\n",
    "px.histogram(\n",
    "    data_frame=big_px_df.T,\n",
    "    x='gene_expression',\n",
    "    color='gene',\n",
    "    barmode='overlay',\n",
    "    title=\"Average Cytokine Gene Expression\")"
   ]
  },
  {
   "cell_type": "markdown",
   "metadata": {},
   "source": [
    "#### Group by Mean Gene Expression `p`"
   ]
  },
  {
   "cell_type": "code",
   "execution_count": null,
   "metadata": {},
   "outputs": [],
   "source": [
    "dm_ge_x_lineage = dm_gene_expression.groupby(lineage).mean()"
   ]
  },
  {
   "cell_type": "code",
   "execution_count": null,
   "metadata": {},
   "outputs": [],
   "source": [
    "# Format the Data\n",
    "values, labels, index = data_to_plotly(dm_ge_x_lineage)\n",
    "big_px_df = pd.DataFrame([values, labels, index], index=['average_gene_expression', 'gene', 'tissue_lineage'])\n",
    "big_px_df"
   ]
  },
  {
   "cell_type": "code",
   "execution_count": null,
   "metadata": {},
   "outputs": [],
   "source": [
    "# Make the Graph\n",
    "px.bar(\n",
    "    data_frame=big_px_df.T,\n",
    "    x='tissue_lineage',\n",
    "    y='average_gene_expression',\n",
    "    color='gene',\n",
    "    barmode='overlay',\n",
    "    title='Average Cytokine Gene Expression by Tissue Lineage',\n",
    "    height=1000)"
   ]
  },
  {
   "cell_type": "markdown",
   "metadata": {},
   "source": [
    "## 4. Graph Cytokine Gene Dependency Score"
   ]
  },
  {
   "cell_type": "code",
   "execution_count": null,
   "metadata": {},
   "outputs": [],
   "source": [
    "# Format the Data\n",
    "values, labels, _ = data_to_plotly(dependency)\n",
    "big_px_df = pd.DataFrame([values, labels], index=['gene_dependency_score', 'gene'])"
   ]
  },
  {
   "cell_type": "code",
   "execution_count": null,
   "metadata": {},
   "outputs": [],
   "source": [
    "# Make the Graph\n",
    "px.histogram(\n",
    "    data_frame=big_px_df.T,\n",
    "    x='gene_dependency_score',\n",
    "    color='gene',\n",
    "    barmode='overlay',\n",
    "    title='Cytokine Gene Dependency Score')"
   ]
  },
  {
   "cell_type": "markdown",
   "metadata": {},
   "source": [
    "#### Group by Mean Gene Expression `p`"
   ]
  },
  {
   "cell_type": "code",
   "execution_count": null,
   "metadata": {},
   "outputs": [],
   "source": [
    "dm_dep_x_lineage = dependency.groupby(lineage).mean()"
   ]
  },
  {
   "cell_type": "code",
   "execution_count": null,
   "metadata": {},
   "outputs": [],
   "source": [
    "# Format the Data\n",
    "values, labels, index = data_to_plotly(dm_dep_x_lineage)\n",
    "big_px_df = pd.DataFrame([values, labels, index], index=['average_gene_dependency', 'gene', 'tissue_lineage'])\n",
    "big_px_df"
   ]
  },
  {
   "cell_type": "code",
   "execution_count": null,
   "metadata": {},
   "outputs": [],
   "source": [
    "# Make the Graph\n",
    "px.bar(\n",
    "    data_frame=big_px_df.T,\n",
    "    x='tissue_lineage',\n",
    "    y='average_gene_dependency', \n",
    "    color='gene',\n",
    "    barmode='overlay',\n",
    "    title='Average Cytokine Gene  Dependency Score by Tissue Lineage',\n",
    "    height=1000)"
   ]
  },
  {
   "cell_type": "markdown",
   "metadata": {},
   "source": [
    "## 5. Alternatively, Make Different Graphs for Each Cytokine"
   ]
  },
  {
   "cell_type": "markdown",
   "metadata": {},
   "source": [
    "Start with Expression "
   ]
  },
  {
   "cell_type": "code",
   "execution_count": null,
   "metadata": {},
   "outputs": [],
   "source": [
    "# Transpose the DataFrame\n",
    "dm_gene_expression = dm_gene_expression.T"
   ]
  },
  {
   "cell_type": "code",
   "execution_count": null,
   "metadata": {},
   "outputs": [],
   "source": [
    "for cytokine in CYTOKINES:\n",
    "    # Start with all Cytokines\n",
    "    fig=px.histogram(\n",
    "        data_frame=dm_gene_expression.loc[cytokine].to_frame(),\n",
    "        x=cytokine,\n",
    "        range_x=[0,8],\n",
    "        nbins=200,\n",
    "        title=f'{cytokine}: Gene Expression',\n",
    "        labels={cytokine: 'Gene Expression Value'})\n",
    "    fig.show()\n",
    "    \n",
    "    # Then do the group by\n",
    "    fig=px.bar(\n",
    "        dm_gene_expression.T.groupby(lineage).mean().loc[:, cytokine],\n",
    "        title=f'Average {cytokine} Expression by Tissue Lineage')\n",
    "    fig.show()"
   ]
  },
  {
   "cell_type": "markdown",
   "metadata": {},
   "source": [
    "Now do the same for Dependency"
   ]
  },
  {
   "cell_type": "code",
   "execution_count": null,
   "metadata": {},
   "outputs": [],
   "source": [
    "# Transpose the DataFrame\n",
    "dependency=dependency.T"
   ]
  },
  {
   "cell_type": "code",
   "execution_count": null,
   "metadata": {
    "scrolled": true
   },
   "outputs": [],
   "source": [
    "for cytokine in CYTOKINES:\n",
    "    # Start with all Cytokines\n",
    "    fig=px.histogram(\n",
    "        x=dependency.loc[cytokine].values,\n",
    "        range_x=[0,1],\n",
    "        nbins=200,\n",
    "        title=f'{cytokine}: Dependency')\n",
    "    fig.show()\n",
    "\n",
    "    # Then do the group by\n",
    "    fig=px.bar(\n",
    "        dependency.T.groupby(lineage).mean().loc[:, cytokine],\n",
    "        title=f'Average {cytokine} Dependency by Tissue Lineage')\n",
    "    fig.show()"
   ]
  }
 ],
 "metadata": {
  "kernelspec": {
   "display_name": "Python 3.10.2 64-bit ('microarray': conda)",
   "language": "python",
   "name": "python3102jvsc74a57bd0455ea68ef66788c17e8e76bb0bd125a84aa719960da5e8e99e8aefd50986211c"
  },
  "language_info": {
   "codemirror_mode": {
    "name": "ipython",
    "version": 3
   },
   "file_extension": ".py",
   "mimetype": "text/x-python",
   "name": "python",
   "nbconvert_exporter": "python",
   "pygments_lexer": "ipython3",
   "version": "3.10.2"
  }
 },
 "nbformat": 4,
 "nbformat_minor": 4
}
