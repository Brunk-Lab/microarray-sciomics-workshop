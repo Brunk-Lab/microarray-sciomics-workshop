{
 "cells": [
  {
   "cell_type": "markdown",
   "metadata": {},
   "source": [
    "# Pearson Correlation"
   ]
  },
  {
   "cell_type": "code",
   "execution_count": null,
   "metadata": {},
   "outputs": [],
   "source": [
    "import pickle\n",
    "\n",
    "import pandas as pd\n",
    "import seaborn as sns\n",
    "import matplotlib.pyplot as plt\n",
    "from scipy.stats import pearsonr"
   ]
  },
  {
   "cell_type": "markdown",
   "metadata": {},
   "source": [
    "## 1. Load Data and Set Sample Keys"
   ]
  },
  {
   "cell_type": "code",
   "execution_count": null,
   "metadata": {},
   "outputs": [],
   "source": [
    "present_transcripts_df = pd.read_csv('../../data/expression_by_probe.csv', index_col=0)\n",
    "sample_key_abb = {\n",
    "    'GSM215347':'Control 1',\n",
    "    'GSM215348':'Control 2',\n",
    "    'GSM215349':'Control 3',\n",
    "    'GSM215350':'Activated with IL2 rep 1',\n",
    "    'GSM215351':'Activated with IL2 rep 2',\n",
    "    'GSM215352':'Activated with IL2 rep 3',\n",
    "    'GSM215353':'Activated with IL15 rep 1',\n",
    "    'GSM215354':'Activated with IL15 rep 2',\n",
    "    'GSM215355':'Activated with IL15 rep 3',\n",
    "    'GSM215356':'Activated with IL21 rep 1',\n",
    "    'GSM215357':'Activated with IL21 rep 2',\n",
    "    'GSM215358':'Activated with IL21 rep 3'\n",
    "}"
   ]
  },
  {
   "cell_type": "markdown",
   "metadata": {},
   "source": [
    "# 2. Pearson Matrix Function"
   ]
  },
  {
   "cell_type": "code",
   "execution_count": null,
   "metadata": {},
   "outputs": [],
   "source": [
    "# Function to calculate Pearson correlation between columns of a DataFrame.\n",
    "# Returns (pandas DataFrame of Pearson correlations between columns, pandas DataFrame of p-values)\n",
    "def matrix_pearson(df):\n",
    "    pearsons = {}\n",
    "    pvals = {}\n",
    "    for column0 in df:\n",
    "       pearsons[column0] = []\n",
    "       pvals[column0] = []\n",
    "       for column1 in df:\n",
    "           r, p = pearsonr(df[column0], df[column1])\n",
    "           pearsons[column0].append(r)\n",
    "           pvals[column0].append(p)\n",
    "    return(pd.DataFrame(pearsons), pd.DataFrame(pvals, dtype=float))"
   ]
  },
  {
   "cell_type": "markdown",
   "metadata": {},
   "source": [
    "## 3. Get the Correlation Matrix"
   ]
  },
  {
   "cell_type": "code",
   "execution_count": null,
   "metadata": {},
   "outputs": [],
   "source": [
    "pearson, p = matrix_pearson(present_transcripts_df)"
   ]
  },
  {
   "cell_type": "markdown",
   "metadata": {},
   "source": [
    "Label the columns and rows appropriately."
   ]
  },
  {
   "cell_type": "code",
   "execution_count": null,
   "metadata": {},
   "outputs": [],
   "source": [
    "pearson.columns = [sample_key_abb[i] for i in pearson.columns]\n",
    "pearson.index = pearson.columns"
   ]
  },
  {
   "cell_type": "markdown",
   "metadata": {},
   "source": [
    "## 4. Visualize it"
   ]
  },
  {
   "cell_type": "code",
   "execution_count": null,
   "metadata": {},
   "outputs": [],
   "source": [
    "sns.heatmap(pearson)\n",
    "plt.savefig('../../results/Pearson_clustermap.png')"
   ]
  }
 ],
 "metadata": {
  "interpreter": {
   "hash": "455ea68ef66788c17e8e76bb0bd125a84aa719960da5e8e99e8aefd50986211c"
  },
  "kernelspec": {
   "display_name": "Python 3.10.2 64-bit ('microarray': conda)",
   "language": "python",
   "name": "python3"
  },
  "language_info": {
   "codemirror_mode": {
    "name": "ipython",
    "version": 3
   },
   "file_extension": ".py",
   "mimetype": "text/x-python",
   "name": "python",
   "nbconvert_exporter": "python",
   "pygments_lexer": "ipython3",
   "version": "3.10.2"
  }
 },
 "nbformat": 4,
 "nbformat_minor": 4
}
