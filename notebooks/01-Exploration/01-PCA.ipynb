{
 "cells": [
  {
   "cell_type": "markdown",
   "metadata": {},
   "source": [
    "# Pricipal Component Analysis\n",
    "Here we are going to find the principle components in the data and visualize the results.\n",
    "\n",
    "Principal Component Analysis is a popular method of visualizing variance in gene expression data and has many uses in statistics and machine learning. If you want to know more about PCA, this [excerpt from the Python Data Science Handbook by Jake VanderPlas](https://jakevdp.github.io/PythonDataScienceHandbook/05.09-principal-component-analysis.html) has a nice explanation."
   ]
  },
  {
   "cell_type": "code",
   "execution_count": null,
   "metadata": {},
   "outputs": [],
   "source": [
    "import json\n",
    "import pandas as pd\n",
    "import matplotlib.pyplot as plt\n",
    "from sklearn import decomposition"
   ]
  },
  {
   "cell_type": "markdown",
   "metadata": {},
   "source": [
    "## 1. Load Data and Experimental Groups"
   ]
  },
  {
   "cell_type": "code",
   "execution_count": null,
   "metadata": {},
   "outputs": [],
   "source": [
    "present_transcripts_df = pd.read_csv('../../data/expression_by_probe.csv', index_col=0)\n",
    "experimental_groups = json.load(open('../../data/experimental_groups.json'))"
   ]
  },
  {
   "cell_type": "markdown",
   "metadata": {},
   "source": [
    "## 2. Find the Components Using `sklearn`\n",
    "We want a high combined explained variance ratio. If there we can't get a high explained variance ratio within the first 2-3 components, we should choose a different method"
   ]
  },
  {
   "cell_type": "code",
   "execution_count": null,
   "metadata": {},
   "outputs": [],
   "source": [
    "pca = decomposition.PCA(n_components=3)\n",
    "components = pca.fit_transform(present_transcripts_df.T.values)\n",
    "components_df = pd.DataFrame(components, index=present_transcripts_df.T.index)"
   ]
  },
  {
   "cell_type": "code",
   "execution_count": null,
   "metadata": {},
   "outputs": [],
   "source": [
    "print(pca.explained_variance_ratio_)\n",
    "pca.explained_variance_ratio_.sum()"
   ]
  },
  {
   "cell_type": "code",
   "execution_count": null,
   "metadata": {},
   "outputs": [],
   "source": [
    "components_df"
   ]
  },
  {
   "cell_type": "markdown",
   "metadata": {},
   "source": [
    "## 3. Visualize Principle Components Using 3D Scatterplot\n",
    "With 3 components, we can visualize them in three dimensions or two with a simple scatterplot showing different components as the axes."
   ]
  },
  {
   "cell_type": "code",
   "execution_count": null,
   "metadata": {},
   "outputs": [],
   "source": [
    "# Creates 3D Scatterplot in matplotlib with 3 groups for the purpose of visualizing the \n",
    "# 3 component PCA across our 3 conditions. Plots scatterplot and does not return anything.\n",
    "fig = plt.figure(figsize=(10,10), dpi=100)\n",
    "ax = fig.gca(projection='3d')\n",
    "\n",
    "for i, j in zip(experimental_groups, 'rgyb'):\n",
    "    xs = components_df.loc[experimental_groups[i], 0].values\n",
    "    ys = components_df.loc[experimental_groups[i], 1].values\n",
    "    zs = components_df.loc[experimental_groups[i], 2]\n",
    "    ax.scatter(xs, ys, zs, c=j, s=400)\n",
    "\n",
    "ax.legend(labels=experimental_groups.keys())\n",
    "plt.show()\n",
    "fig.savefig('../../results/3d_pca.png')"
   ]
  },
  {
   "cell_type": "markdown",
   "metadata": {},
   "source": [
    "## 4. Alternatively, Visualize Principle Components Using Multiple 2D Scatterplots"
   ]
  },
  {
   "cell_type": "code",
   "execution_count": null,
   "metadata": {
    "scrolled": true
   },
   "outputs": [],
   "source": [
    "# Make a bunch of 2D scatterplots instead of one 3D scatterplot\n",
    "for combo in [(0,1), (0,2), (1,2)]:\n",
    "    \n",
    "    fig=plt.figure(figsize=(5,5), dpi=100)\n",
    "    ax=fig.gca()\n",
    "    \n",
    "    #Go through each experimental group and plot in a different color\n",
    "    for i, j in zip(experimental_groups, 'rygb'):\n",
    "        \n",
    "        xs=components_df.loc[experimental_groups[i], combo[0]].values\n",
    "        ys=components_df.loc[experimental_groups[i], combo[1]].values\n",
    "    \n",
    "        ax.scatter(xs, ys, c=j, s=400)\n",
    "        fig.savefig(f'../../results/2d_pca_{combo}.png')"
   ]
  }
 ],
 "metadata": {
  "interpreter": {
   "hash": "455ea68ef66788c17e8e76bb0bd125a84aa719960da5e8e99e8aefd50986211c"
  },
  "kernelspec": {
   "display_name": "Python 3 (ipykernel)",
   "language": "python",
   "name": "python3"
  },
  "language_info": {
   "codemirror_mode": {
    "name": "ipython",
    "version": 3
   },
   "file_extension": ".py",
   "mimetype": "text/x-python",
   "name": "python",
   "nbconvert_exporter": "python",
   "pygments_lexer": "ipython3",
   "version": "3.10.2"
  }
 },
 "nbformat": 4,
 "nbformat_minor": 4
}
