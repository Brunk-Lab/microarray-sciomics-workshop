{
 "cells": [
  {
   "cell_type": "markdown",
   "id": "9932d368",
   "metadata": {},
   "source": [
    "# 0. Prep the Environment"
   ]
  },
  {
   "cell_type": "code",
   "execution_count": null,
   "id": "1118cdee",
   "metadata": {},
   "outputs": [],
   "source": [
    "import os, gzip, glob, shutil, pickle\n",
    "\n",
    "import pandas as pd\n",
    "import numpy as np\n",
    "import matplotlib.pyplot as plt\n",
    "from scipy.stats import pearsonr, f_oneway\n",
    "from statsmodels.stats.multitest import multipletests\n",
    "from statsmodels.stats.multicomp import pairwise_tukeyhsd\n",
    "import plotly.express as px\n",
    "import seaborn as sns\n",
    "from sklearn import decomposition"
   ]
  },
  {
   "cell_type": "code",
   "execution_count": null,
   "id": "a373773f",
   "metadata": {},
   "outputs": [],
   "source": [
    "for gz_fn in glob.glob('../data/*.gz'):\n",
    "  if not os.path.exists(gz_fn[:-3]):\n",
    "    with gzip.open(gz_fn, 'rb') as f_in, open(gz_fn[:-3], 'wb') as f_out:\n",
    "      shutil.copyfileobj(f_in, f_out)"
   ]
  },
  {
   "cell_type": "markdown",
   "id": "769d6c55",
   "metadata": {},
   "source": [
    "# 1. Parse File (Remove in Solution Notebook)"
   ]
  },
  {
   "cell_type": "code",
   "execution_count": null,
   "id": "6196fe02",
   "metadata": {},
   "outputs": [],
   "source": [
    "with open('../data/GSE8685_family.soft') as f:\n",
    "    lines=f.readlines()\n",
    "    \n",
    "    on_expression_table=False\n",
    "    on_platform_table=False\n",
    "    on_sample=False\n",
    "    \n",
    "    sample=''\n",
    "    sample_key={}\n",
    "    \n",
    "    probe_key={}    \n",
    "    expression_table={}\n",
    "    p_val_table={}\n",
    "    transcript_table={}\n",
    "    abs_call_table={}\n",
    "    \n",
    "    for line in lines:\n",
    "        \n",
    "        line=line.strip()\n",
    "        \n",
    "        if line=='!platform_table_begin':\n",
    "            on_platform_table=True\n",
    "            continue\n",
    "            \n",
    "        elif line=='!platform_table_end':\n",
    "            on_platform_table=False\n",
    "            continue\n",
    "            \n",
    "        elif line=='!sample_table_begin':\n",
    "            on_expression_table=True\n",
    "            continue\n",
    "            \n",
    "        elif line=='!sample_table_end':\n",
    "            on_expression_table=False\n",
    "            continue\n",
    "            \n",
    "        elif line.split(' = ')[0]=='^SAMPLE':\n",
    "            sample=line.split(' = ')[1]\n",
    "            expression_table[sample]={}\n",
    "            transcript_table[sample]={}\n",
    "            p_val_table[sample]={}\n",
    "            abs_call_table[sample]={}\n",
    "            continue\n",
    "            \n",
    "        elif line.split(' = ')[0]=='!Sample_title':\n",
    "            sample_key[sample]=line.split(' = ')[1]\n",
    "            continue\n",
    "        \n",
    "        line=line.strip().split('\\t')\n",
    "        \n",
    "        if on_platform_table:\n",
    "            if len(line)<10:\n",
    "                if line[5]=='':\n",
    "                    print(line)\n",
    "                probe_key[line[0]]=line[5]\n",
    "                continue\n",
    "                \n",
    "            else:\n",
    "                gene_ids=line[10].split(' /// ')\n",
    "\n",
    "                probe_key[line[0]]=gene_ids\n",
    "                continue\n",
    "            \n",
    "        elif on_expression_table:\n",
    "            if sample=='':\n",
    "                print(line)\n",
    "            if line[0]=='ID_REF':\n",
    "                continue\n",
    "            else:\n",
    "                value=line[1]\n",
    "                p_val=line[3]\n",
    "                abs_call=line[2]\n",
    "                probe_id=line[0]\n",
    "                gene_names=probe_key[probe_id]\n",
    "                if type(gene_names)==list:\n",
    "                    for gene_name in gene_names:\n",
    "                        if not gene_name in expression_table[sample]:\n",
    "                            expression_table[sample][gene_name]=[float(value)]\n",
    "                        else:\n",
    "                            expression_table[sample][gene_name].append(float(value))\n",
    "                        \n",
    "                else:\n",
    "                    if not gene_names in expression_table[sample]:\n",
    "                        expression_table[sample][gene_names]=[float(value)]\n",
    "                    else:\n",
    "                        expression_table[sample][gene_names].append(float(value))\n",
    "                p_val_table[sample][probe_id]=float(p_val) \n",
    "                abs_call_table[sample][probe_id]= 1 if abs_call=='P' else 0\n",
    "                transcript_table[sample][probe_id]=float(value)"
   ]
  },
  {
   "cell_type": "code",
   "execution_count": null,
   "id": "a605016a",
   "metadata": {},
   "outputs": [],
   "source": [
    "sample_key"
   ]
  },
  {
   "cell_type": "code",
   "execution_count": null,
   "id": "b9f9c924",
   "metadata": {},
   "outputs": [],
   "source": [
    "sample_key_abb={\n",
    "    'GSM215347':'Control 1',\n",
    "    'GSM215348':'Control 2',\n",
    "    'GSM215349':'Control 3',\n",
    "    'GSM215350':'Activated with IL2 rep 1',\n",
    "    'GSM215351':'Activated with IL2 rep 2',\n",
    "    'GSM215352':'Activated with IL2 rep 3',\n",
    "    'GSM215353':'Activated with IL15 rep 1',\n",
    "    'GSM215354':'Activated with IL15 rep 2',\n",
    "    'GSM215355':'Activated with IL15 rep 3',\n",
    "    'GSM215356':'Activated with IL21 rep 1',\n",
    "    'GSM215357':'Activated with IL21 rep 2',\n",
    "    'GSM215358':'Activated with IL21 rep 3'\n",
    "}\n",
    "\n",
    "experimental_groups={\n",
    "    'Control': ['GSM215347', 'GSM215348', 'GSM215349'],\n",
    "    'IL2': ['GSM215350', 'GSM215351', 'GSM215352'],\n",
    "    'IL15': ['GSM215353', 'GSM215354', 'GSM215355'],\n",
    "    'IL21': ['GSM215356', 'GSM215357', 'GSM215358'],\n",
    "}\n",
    "\n"
   ]
  },
  {
   "cell_type": "code",
   "execution_count": null,
   "id": "ff4c45f2",
   "metadata": {},
   "outputs": [],
   "source": [
    "transcript_df=pd.DataFrame(transcript_table).dropna()"
   ]
  },
  {
   "cell_type": "code",
   "execution_count": null,
   "id": "77081ea6",
   "metadata": {},
   "outputs": [],
   "source": [
    "transcript_df"
   ]
  },
  {
   "cell_type": "markdown",
   "id": "7925496a",
   "metadata": {},
   "source": [
    "# 2. Retain only transcripts with present calls in all members of at least one condition"
   ]
  },
  {
   "cell_type": "code",
   "execution_count": null,
   "id": "497c9ec0",
   "metadata": {},
   "outputs": [],
   "source": [
    "abs_call_df=pd.DataFrame(abs_call_table)\n",
    "abs_call_df"
   ]
  },
  {
   "cell_type": "code",
   "execution_count": null,
   "id": "131178f9",
   "metadata": {},
   "outputs": [],
   "source": [
    "present_transcripts=set()\n",
    "\n",
    "for transcript in abs_call_df.index:\n",
    "    for condition in experimental_groups:\n",
    "        \n",
    "        if abs_call_df.loc[transcript, experimental_groups[condition]].sum()==3:\n",
    "            present_transcripts.add(transcript)\n",
    "            break"
   ]
  },
  {
   "cell_type": "code",
   "execution_count": null,
   "id": "aa0832a0",
   "metadata": {},
   "outputs": [],
   "source": [
    "len(present_transcripts)"
   ]
  },
  {
   "cell_type": "code",
   "execution_count": null,
   "id": "c0535e2b",
   "metadata": {},
   "outputs": [],
   "source": [
    "present_transcripts_df=transcript_df.loc[present_transcripts]\n",
    "present_transcripts_df.shape"
   ]
  },
  {
   "cell_type": "markdown",
   "id": "c936a26a",
   "metadata": {},
   "source": [
    "# 3. PCA"
   ]
  },
  {
   "cell_type": "code",
   "execution_count": null,
   "id": "3c63b5b1",
   "metadata": {},
   "outputs": [],
   "source": [
    "pca=decomposition.PCA(n_components=3)\n",
    "components=pca.fit_transform(present_transcripts_df.T.values)\n",
    "components_df=pd.DataFrame(components, index=present_transcripts_df.T.index)"
   ]
  },
  {
   "cell_type": "markdown",
   "id": "eee755bd",
   "metadata": {},
   "source": [
    "#### We want a high combined explained variance ratio. If there we can't get a high explained variance ratio within the first 2-3 components, we should choose a different method"
   ]
  },
  {
   "cell_type": "code",
   "execution_count": null,
   "id": "1c1baa73",
   "metadata": {},
   "outputs": [],
   "source": [
    "pca.explained_variance_ratio_"
   ]
  },
  {
   "cell_type": "code",
   "execution_count": null,
   "id": "201e6e5d",
   "metadata": {},
   "outputs": [],
   "source": [
    "pca.explained_variance_ratio_.sum()"
   ]
  },
  {
   "cell_type": "code",
   "execution_count": null,
   "id": "9126beec",
   "metadata": {},
   "outputs": [],
   "source": [
    "components_df"
   ]
  },
  {
   "cell_type": "markdown",
   "id": "f1b0a363",
   "metadata": {},
   "source": [
    "### 3D Scatterplot - visualize PCA"
   ]
  },
  {
   "cell_type": "code",
   "execution_count": null,
   "id": "3e4d1eed",
   "metadata": {},
   "outputs": [],
   "source": [
    "from mpl_toolkits.mplot3d import Axes3D"
   ]
  },
  {
   "cell_type": "code",
   "execution_count": null,
   "id": "aa3cf41f",
   "metadata": {},
   "outputs": [],
   "source": [
    "experimental_groups"
   ]
  },
  {
   "cell_type": "code",
   "execution_count": null,
   "id": "9c9c2936",
   "metadata": {},
   "outputs": [],
   "source": [
    "fig=plt.figure(figsize=(10,10), dpi=100)\n",
    "ax=fig.gca(projection='3d')\n",
    "for i, j in zip(experimental_groups, 'rygb'):\n",
    "    xs=components_df.loc[experimental_groups[i], 0].values\n",
    "    ys=components_df.loc[experimental_groups[i], 1].values\n",
    "    zs=components_df.loc[experimental_groups[i], 2]\n",
    "    ax.scatter(xs, ys, zs, c=j, s=400)\n",
    "    \n",
    "ax.legend(labels=['Control', 'IL2', 'IL15', 'IL21'])\n",
    "plt.show()\n",
    "fig.savefig('../results/3d_pca.png')"
   ]
  },
  {
   "cell_type": "code",
   "execution_count": null,
   "id": "62f9a034",
   "metadata": {
    "scrolled": false
   },
   "outputs": [],
   "source": [
    "# Make a bunch of 2D scatterplots instead of one 3D scatterplot\n",
    "\n",
    "for combo in [(0,1), (0,2), (1,2)]:\n",
    "    fig=plt.figure(figsize=(5,5), dpi=100)\n",
    "    ax=fig.gca()\n",
    "    for i, j in zip(experimental_groups, 'rygb'):\n",
    "        xs=components_df.loc[experimental_groups[i], combo[0]].values\n",
    "        ys=components_df.loc[experimental_groups[i], combo[1]].values\n",
    "    \n",
    "        ax.scatter(xs, ys, c=j, s=400)\n",
    "        fig.savefig('../results/2d_pca_{}.png'.format(combo))"
   ]
  },
  {
   "cell_type": "markdown",
   "id": "d2d19f21",
   "metadata": {},
   "source": [
    "# 4. One-way ANOVA/F-test on 4 conditions"
   ]
  },
  {
   "cell_type": "code",
   "execution_count": null,
   "id": "dce50313",
   "metadata": {},
   "outputs": [],
   "source": [
    "experimental_groups_expression={}\n",
    "for condition in experimental_groups:\n",
    "    experimental_groups_expression[condition]=present_transcripts_df[experimental_groups[condition]].T"
   ]
  },
  {
   "cell_type": "code",
   "execution_count": null,
   "id": "35a76899",
   "metadata": {},
   "outputs": [],
   "source": [
    "F, p=f_oneway(experimental_groups_expression['Control'], \n",
    "               experimental_groups_expression['IL2'],\n",
    "               experimental_groups_expression['IL15'],\n",
    "               experimental_groups_expression['IL21'], axis=0)"
   ]
  },
  {
   "cell_type": "code",
   "execution_count": null,
   "id": "3cdbd758",
   "metadata": {
    "scrolled": true
   },
   "outputs": [],
   "source": [
    "len(F)"
   ]
  },
  {
   "cell_type": "code",
   "execution_count": null,
   "id": "a52fea46",
   "metadata": {},
   "outputs": [],
   "source": [
    "transcripts=list(present_transcripts_df.index)"
   ]
  },
  {
   "cell_type": "code",
   "execution_count": null,
   "id": "7af5b554",
   "metadata": {},
   "outputs": [],
   "source": [
    "F_p_df=pd.DataFrame(index=transcripts, data=zip(F, p), columns=['F', 'p'])"
   ]
  },
  {
   "cell_type": "code",
   "execution_count": null,
   "id": "c36c8312",
   "metadata": {},
   "outputs": [],
   "source": [
    "F_p_df"
   ]
  },
  {
   "cell_type": "markdown",
   "id": "c887df3b",
   "metadata": {},
   "source": [
    "# 5. Benjamini-Hochberg step up correction"
   ]
  },
  {
   "cell_type": "code",
   "execution_count": null,
   "id": "1c487c90",
   "metadata": {},
   "outputs": [],
   "source": [
    "bh=multipletests(p, alpha=0.01, method='fdr_bh')\n",
    "F_p_df['reject null']=bh[0]\n",
    "F_p_df['corrected p']=bh[1]"
   ]
  },
  {
   "cell_type": "code",
   "execution_count": null,
   "id": "d92c73b8",
   "metadata": {},
   "outputs": [],
   "source": [
    "diff_exp_genes_df=F_p_df.loc[F_p_df['reject null']]"
   ]
  },
  {
   "cell_type": "code",
   "execution_count": null,
   "id": "d2a25b40",
   "metadata": {},
   "outputs": [],
   "source": [
    "diff_exp_genes_list=list(diff_exp_genes_df.index)"
   ]
  },
  {
   "cell_type": "code",
   "execution_count": null,
   "id": "068b7e0b",
   "metadata": {},
   "outputs": [],
   "source": [
    "len(diff_exp_genes_list)"
   ]
  },
  {
   "cell_type": "markdown",
   "id": "8f784691",
   "metadata": {},
   "source": [
    "# 5. Diff-exp A: Filter by fold change (No post-hoc)"
   ]
  },
  {
   "cell_type": "markdown",
   "id": "a0f0a443",
   "metadata": {},
   "source": [
    "## Calculating fold change vs control"
   ]
  },
  {
   "cell_type": "code",
   "execution_count": null,
   "id": "e3acabf6",
   "metadata": {},
   "outputs": [],
   "source": [
    "#Calculate mean by experimental group\n",
    "condition_means={}\n",
    "condition_means_diffexp={}\n",
    "\n",
    "for i in experimental_groups:\n",
    "    condition_means_diffexp[i]=present_transcripts_df.loc[diff_exp_genes_list,experimental_groups[i]].T.mean()\n",
    "    condition_means[i]=present_transcripts_df.loc[:, experimental_groups[i]].T.mean()    \n",
    "    \n",
    "condition_means_df=pd.DataFrame(condition_means)\n",
    "condition_means_diffexp_df=pd.DataFrame(condition_means_diffexp)"
   ]
  },
  {
   "cell_type": "code",
   "execution_count": null,
   "id": "aa6c3da1",
   "metadata": {},
   "outputs": [],
   "source": [
    "present_transcripts_df.loc[:, experimental_groups['IL2']].T.mean()/present_transcripts_df.loc[:, experimental_groups['Control']].T.mean() "
   ]
  },
  {
   "cell_type": "code",
   "execution_count": null,
   "id": "9a69dc7c",
   "metadata": {},
   "outputs": [],
   "source": [
    "#Calculate fold change\n",
    "fold_change_dict={}\n",
    "for i in condition_means_df:\n",
    "    fold_change_dict[i]=condition_means_df[i]/condition_means_df['Control']\n",
    "fold_change_df=pd.DataFrame(fold_change_dict)"
   ]
  },
  {
   "cell_type": "code",
   "execution_count": null,
   "id": "2941de83",
   "metadata": {},
   "outputs": [],
   "source": [
    "fold_change_df"
   ]
  },
  {
   "cell_type": "markdown",
   "id": "e76a2183",
   "metadata": {},
   "source": [
    "## Filter for fold change magnitude"
   ]
  },
  {
   "cell_type": "code",
   "execution_count": null,
   "id": "7412dfa1",
   "metadata": {},
   "outputs": [],
   "source": [
    "diffexp_fold_change={}\n",
    "\n",
    "for i in fold_change_df:\n",
    "    \n",
    "    if not i=='Control':\n",
    "        diffexp_fold_change[i]={'up':[],\n",
    "                      'dn':[]}\n",
    "        \n",
    "        #Filter for significance\n",
    "        for j in diff_exp_genes_list:\n",
    "            \n",
    "            fold_change=fold_change_df.loc[j, i]\n",
    "            \n",
    "            if fold_change > 2:\n",
    "                diffexp_fold_change[i]['up'].append(j)\n",
    "                \n",
    "            elif fold_change < 0.5:\n",
    "                diffexp_fold_change[i]['dn'].append(j)"
   ]
  },
  {
   "cell_type": "code",
   "execution_count": null,
   "id": "712f0dfa",
   "metadata": {},
   "outputs": [],
   "source": [
    "print(\"Differentially expressed probes in each group:\")\n",
    "for i in diffexp_fold_change:\n",
    "    for j in diffexp_fold_change[i]:\n",
    "        print ('{}_{}: {}'.format(i, j, len(diffexp_fold_change[i][j])))"
   ]
  },
  {
   "cell_type": "code",
   "execution_count": null,
   "id": "94c6428f",
   "metadata": {},
   "outputs": [],
   "source": [
    "#Change probe names to gene names\n",
    "\n",
    "diffexp_genes_fold_change={}\n",
    "for i in diffexp_fold_change:\n",
    "    diffexp_genes_fold_change[i]={}\n",
    "    for j in diffexp_fold_change[i]:\n",
    "        diffexp_genes_fold_change[i][j]=set()\n",
    "        for probe in diffexp_fold_change[i][j]:\n",
    "            if type(probe_key[probe])==list:\n",
    "                for gene in probe_key[probe]:\n",
    "                    diffexp_genes_fold_change[i][j].add(gene)"
   ]
  },
  {
   "cell_type": "code",
   "execution_count": null,
   "id": "ec044dce",
   "metadata": {},
   "outputs": [],
   "source": [
    "print(\"Differentially expressed genes in each group\")\n",
    "\n",
    "for i in diffexp_genes_fold_change:\n",
    "    for j in diffexp_genes_fold_change[i]:\n",
    "        print('{}_{}: {}'.format(i, j, len(diffexp_genes_fold_change[i][j])))"
   ]
  },
  {
   "cell_type": "code",
   "execution_count": null,
   "id": "11475de8",
   "metadata": {},
   "outputs": [],
   "source": [
    "from matplotlib_venn import venn3"
   ]
  },
  {
   "cell_type": "code",
   "execution_count": null,
   "id": "a2bae47f",
   "metadata": {},
   "outputs": [],
   "source": [
    "venn_dict=dict(zip(diffexp_fold_change.keys(), [diffexp_fold_change[i]['up']+diffexp_fold_change[i]['dn'] for i in diffexp_fold_change]))\n",
    "\n",
    "up_venn_dict=dict(zip(diffexp_fold_change.keys(), [diffexp_fold_change[i]['up'] for i in diffexp_fold_change]))\n",
    "dn_venn_dict=dict(zip(diffexp_fold_change.keys(), [diffexp_fold_change[i]['dn'] for i in diffexp_fold_change]))"
   ]
  },
  {
   "cell_type": "code",
   "execution_count": null,
   "id": "802fad62",
   "metadata": {},
   "outputs": [],
   "source": [
    "venn3(subsets=[set(venn_dict[condition]) for condition in venn_dict], set_labels=venn_dict.keys())"
   ]
  },
  {
   "cell_type": "code",
   "execution_count": null,
   "id": "886b92f7",
   "metadata": {},
   "outputs": [],
   "source": [
    "venn3(subsets=[set(up_venn_dict[condition]) for condition in venn_dict], set_labels=venn_dict.keys())"
   ]
  },
  {
   "cell_type": "code",
   "execution_count": null,
   "id": "820f7ea5",
   "metadata": {},
   "outputs": [],
   "source": [
    "venn3(subsets=[set(dn_venn_dict[condition]) for condition in venn_dict], set_labels=venn_dict.keys())"
   ]
  },
  {
   "cell_type": "markdown",
   "id": "381fd198",
   "metadata": {},
   "source": [
    "# Calculate Pearson Correlation"
   ]
  },
  {
   "cell_type": "code",
   "execution_count": null,
   "id": "2ecb07ee",
   "metadata": {},
   "outputs": [],
   "source": [
    "#Create pearson correlation coefficient matrix between columns of a matrix\n",
    "def matrix_pearson(df):\n",
    "    pearsons={}\n",
    "    pvals={}\n",
    "    for column0 in df:\n",
    "        pearsons[column0]=[]\n",
    "        pvals[column0]=[]\n",
    "        for column1 in df:\n",
    "                r, p=pearsonr(df[column0], df[column1])\n",
    "                pearsons[column0].append(r)\n",
    "                pvals[column0].append(p)\n",
    "    return(pd.DataFrame(pearsons), pd.DataFrame(pvals, dtype=float))"
   ]
  },
  {
   "cell_type": "code",
   "execution_count": null,
   "id": "4f53b8fd",
   "metadata": {},
   "outputs": [],
   "source": [
    "pearson, p=matrix_pearson(present_transcripts_df)"
   ]
  },
  {
   "cell_type": "code",
   "execution_count": null,
   "id": "0ddeb36b",
   "metadata": {},
   "outputs": [],
   "source": [
    "df=pd.DataFrame(np.random.randint(0,100, size=(100,6)), columns=list('abcdef'))"
   ]
  },
  {
   "cell_type": "code",
   "execution_count": null,
   "id": "f1d1c631",
   "metadata": {},
   "outputs": [],
   "source": [
    "matrix_pearson(df)"
   ]
  },
  {
   "cell_type": "code",
   "execution_count": null,
   "id": "1bf19c26",
   "metadata": {},
   "outputs": [],
   "source": [
    "pearson.columns=[sample_key_abb[i] for i in pearson.columns]"
   ]
  },
  {
   "cell_type": "code",
   "execution_count": null,
   "id": "ecaa5b55",
   "metadata": {},
   "outputs": [],
   "source": [
    "pearson.index=pearson.columns"
   ]
  },
  {
   "cell_type": "code",
   "execution_count": null,
   "id": "70766226",
   "metadata": {},
   "outputs": [],
   "source": [
    "pearson"
   ]
  },
  {
   "cell_type": "code",
   "execution_count": null,
   "id": "40e34e61",
   "metadata": {},
   "outputs": [],
   "source": [
    "sns.heatmap(pearson)\n",
    "plt.savefig('../results/Pearson_clustermap.png')"
   ]
  },
  {
   "cell_type": "markdown",
   "id": "e31b2911",
   "metadata": {},
   "source": [
    "# Compare with Gene Sets"
   ]
  },
  {
   "cell_type": "code",
   "execution_count": null,
   "id": "123f13f2",
   "metadata": {},
   "outputs": [],
   "source": [
    "gene_sets={\n",
    "    'GSE8685_IL15_ACT_IL2_STARVED_VS_IL21_ACT_IL2_STARVED_CD4_TCELL_UP': 'IL15_IL21_up',\n",
    "    'GSE8685_IL15_ACT_IL2_STARVED_VS_IL21_ACT_IL2_STARVED_CD4_TCELL_DN': 'IL15_IL21_dn',\n",
    "    'GSE8685_IL2_ACT_IL2_STARVED_VS_IL15_ACT_IL2_STARVED_CD4_TCELL_DN': 'IL15_Control_dn',\n",
    "    'GSE8685_IL2_ACT_IL2_STARVED_VS_IL15_ACT_IL2_STARVED_CD4_TCELL_UP': 'IL15_Control_up',\n",
    "    'GSE8685_IL2_ACT_IL2_STARVED_VS_IL21_ACT_IL2_STARVED_CD4_TCELL_DN': 'IL2_IL21_dn',\n",
    "    'GSE8685_IL2_ACT_IL2_STARVED_VS_IL21_ACT_IL2_STARVED_CD4_TCELL_UP': 'IL2_IL21_up',\n",
    "    'GSE8685_IL2_STARVED_VS_IL15_ACT_IL2_STARVED_CD4_TCELL_DN': 'IL15_Control_dn',\n",
    "    'GSE8685_IL2_STARVED_VS_IL15_ACT_IL2_STARVED_CD4_TCELL_UP': 'IL15_Control_up',\n",
    "    'GSE8685_IL2_STARVED_VS_IL21_ACT_IL2_STARVED_CD4_TCELL_DN': 'IL21_Control_dn',\n",
    "    'GSE8685_IL2_STARVED_VS_IL21_ACT_IL2_STARVED_CD4_TCELL_UP': 'IL21_Control_up',\n",
    "    'GSE8685_IL2_STARVED_VS_IL2_ACT_IL2_STARVED_CD4_TCELL_DN': 'IL2_Control_dn',\n",
    "    'GSE8685_IL2_STARVED_VS_IL2_ACT_IL2_STARVED_CD4_TCELL_UP': 'IL2_Control_up',\n",
    "    'IL15_UP.V1_DN':'IL15_Control_dn',\n",
    "    'IL15_UP.V1_UP':'IL15_Control_up',\n",
    "    'IL21_UP.V1_DN':'IL21_Control_dn',\n",
    "    'IL21_UP.V1_UP':'IL21_Control_up',\n",
    "    'IL2_UP.V1_DN':'IL2_Control_dn',\n",
    "    'IL2_UP.V1_UP':'IL2_Control_up',\n",
    "    'MARZEC_IL2_SIGNALING_DN': 'IL2_Control_dn',\n",
    "    'MARZEC_IL2_SIGNALING_UP':'IL2_Control_up',\n",
    "}"
   ]
  },
  {
   "cell_type": "code",
   "execution_count": null,
   "id": "5f0ecbe5",
   "metadata": {},
   "outputs": [],
   "source": [
    "gene_sets_dict=pickle.load(open('../data/msigdb_marzec_gene_sets.p', 'rb'))"
   ]
  },
  {
   "cell_type": "code",
   "execution_count": null,
   "id": "0eb3d996",
   "metadata": {},
   "outputs": [],
   "source": [
    "from matplotlib_venn import venn2"
   ]
  },
  {
   "cell_type": "code",
   "execution_count": null,
   "id": "92d66358",
   "metadata": {
    "scrolled": true
   },
   "outputs": [],
   "source": [
    "for gene_set in gene_sets:\n",
    "    condition=gene_sets[gene_set].split('_')\n",
    "    up_or_dn=condition[2]\n",
    "    if condition[1] == 'Control':\n",
    "        gene_set_genes=set(gene_sets_dict[gene_set])\n",
    "        diff_exp_genes=set(diffexp_genes_fold_change[condition[0]][up_or_dn])\n",
    "        print(gene_sets[gene_set])\n",
    "        fig=plt.figure()\n",
    "        ax=plt.gca()\n",
    "        venn2([gene_set_genes, diff_exp_genes], set_labels=[gene_set, 'our genes'], ax=ax)"
   ]
  },
  {
   "cell_type": "markdown",
   "id": "5f8d876a",
   "metadata": {},
   "source": [
    "# Diff-exp B: Post-Hoc Analysis by using Pairwise Tukey"
   ]
  },
  {
   "cell_type": "code",
   "execution_count": null,
   "id": "bca77c2d",
   "metadata": {},
   "outputs": [],
   "source": [
    "def tukeyhsd_get_significant_comparisons(tukeyhsd_results, include_CI=True, only_sig_comparisons=True):\n",
    "    \n",
    "    summary_df=pd.DataFrame(tukeyhsd_results._results_table.data[1:], columns=tukeyhsd_results._results_table.data[0])\n",
    "    \n",
    "    desired_comparisons = [True] if only_sig_comparisons else [True, False]    \n",
    "    \n",
    "    a=summary_df.loc[:,['p-adj', 'reject']]\n",
    "    \n",
    "    if include_CI:\n",
    "        \n",
    "        a['CI'] = [[i[0] for i in zip(summary_df.loc[j, ['lower', 'upper']])] for j in summary_df.index]\n",
    "        \n",
    "    a.index=[i+'_'+j for i,j in summary_df.loc[:,['group1', 'group2']].values]\n",
    "        \n",
    "    return a.loc[[True if i in desired_comparisons else False for i in summary_df['reject']]]"
   ]
  },
  {
   "cell_type": "code",
   "execution_count": null,
   "id": "9c3d6aba",
   "metadata": {},
   "outputs": [],
   "source": [
    "post_hoc_diff_dict={}\n",
    "for transcript in diff_exp_genes_list:\n",
    "    \n",
    "    tukey_summary=pairwise_tukeyhsd(present_transcripts_df.loc[transcript].to_numpy(), ['Control']*3+['IL2']*3+['IL15']*3+['IL21']*3, alpha=0.01)\n",
    "    tukey_results=tukeyhsd_get_significant_comparisons(tukey_summary, include_CI=True)\n",
    "    \n",
    "    for comparison in tukey_results.index:\n",
    "        if not comparison in post_hoc_diff_dict:\n",
    "            post_hoc_diff_dict[comparison]={}\n",
    "        post_hoc_diff_dict[comparison][transcript]=tukey_results.loc[comparison, 'p-adj']"
   ]
  },
  {
   "cell_type": "code",
   "execution_count": null,
   "id": "2aa097f9",
   "metadata": {},
   "outputs": [],
   "source": [
    "post_hoc_diff_df=pd.DataFrame(post_hoc_diff_dict)"
   ]
  },
  {
   "cell_type": "code",
   "execution_count": null,
   "id": "52839a79",
   "metadata": {},
   "outputs": [],
   "source": [
    "print(\"Significant differentially expressed genes after post hoc analysis:\")\n",
    "\n",
    "for condition in post_hoc_diff_dict:\n",
    "    print('{}: {} genes'.format(condition, len(post_hoc_diff_dict[condition])))"
   ]
  },
  {
   "cell_type": "markdown",
   "id": "a68f69be",
   "metadata": {},
   "source": [
    "### Filter for Fold Change 2 or higher"
   ]
  },
  {
   "cell_type": "code",
   "execution_count": null,
   "id": "fcacf143",
   "metadata": {},
   "outputs": [],
   "source": [
    "post_hoc_fold_change_dict={}\n",
    "for comparison in post_hoc_diff_dict:\n",
    "    condA=comparison.split('_')[0]\n",
    "    condB=comparison.split('_')[1]\n",
    "    post_hoc_fold_change_dict[comparison]=present_transcripts_df.loc[:,experimental_groups[condB]].T.mean()/present_transcripts_df.loc[:,experimental_groups[condA]].T.mean()\n",
    "post_hoc_fold_change_df=pd.DataFrame(post_hoc_fold_change_dict)"
   ]
  },
  {
   "cell_type": "code",
   "execution_count": null,
   "id": "58f0a49e",
   "metadata": {
    "scrolled": true
   },
   "outputs": [],
   "source": [
    "post_hoc_fold_change_df"
   ]
  },
  {
   "cell_type": "code",
   "execution_count": null,
   "id": "82b1292b",
   "metadata": {},
   "outputs": [],
   "source": [
    "diffexp_fold_change_ph={}\n",
    "  \n",
    "for condition in post_hoc_diff_dict:\n",
    "\n",
    "    diffexp_fold_change_ph[condition]={\n",
    "        'up':[],\n",
    "        'dn':[]\n",
    "    }\n",
    "    for transcript in post_hoc_diff_dict[condition]:\n",
    "        \n",
    "        #Note that this fold change is for condition 2 relative to condition 1 in 1_2\n",
    "        fold_change=post_hoc_fold_change_df.loc[transcript, condition]\n",
    "        if fold_change > 2:\n",
    "            diffexp_fold_change_ph[condition]['up'].append(transcript)\n",
    "\n",
    "        elif fold_change < 0.5:\n",
    "            diffexp_fold_change_ph[condition]['dn'].append(transcript)\n"
   ]
  },
  {
   "cell_type": "code",
   "execution_count": null,
   "id": "7c242c09",
   "metadata": {},
   "outputs": [],
   "source": [
    "#Change probe names to gene names\n",
    "diffexp_genes_fold_change_ph={}\n",
    "\n",
    "for i in diffexp_fold_change_ph:\n",
    "    \n",
    "    diffexp_genes_fold_change_ph[i]={}\n",
    "    \n",
    "    for j in diffexp_fold_change_ph[i]:\n",
    "        \n",
    "        diffexp_genes_fold_change_ph[i][j]=set()\n",
    "        \n",
    "        for probe in diffexp_fold_change_ph[i][j]:\n",
    "            \n",
    "            if type(probe_key[probe])==list:\n",
    "                \n",
    "                for gene in probe_key[probe]:\n",
    "                    diffexp_genes_fold_change_ph[i][j].add(gene)"
   ]
  },
  {
   "cell_type": "code",
   "execution_count": null,
   "id": "c9559537",
   "metadata": {},
   "outputs": [],
   "source": [
    "for condition in diffexp_genes_fold_change_ph:\n",
    "    for up_or_dn in diffexp_genes_fold_change_ph[condition]:\n",
    "        print('{}_{}: {} genes'.format(condition, up_or_dn, len(diffexp_genes_fold_change_ph[condition][up_or_dn])))"
   ]
  },
  {
   "cell_type": "markdown",
   "id": "1bcff81d",
   "metadata": {},
   "source": [
    "## Compare with gene sets"
   ]
  },
  {
   "cell_type": "code",
   "execution_count": null,
   "id": "b367df15",
   "metadata": {},
   "outputs": [],
   "source": [
    "gene_sets"
   ]
  },
  {
   "cell_type": "code",
   "execution_count": null,
   "id": "8822808d",
   "metadata": {
    "scrolled": false
   },
   "outputs": [],
   "source": [
    "for gene_set in gene_sets:\n",
    "    condition=gene_sets[gene_set].split('_')\n",
    "    up_or_dn=condition[2]\n",
    "    \n",
    "    #Only comparing fold change from control\n",
    "    if condition[1] == 'Control':\n",
    "        gene_set_genes=set(gene_sets_dict[gene_set])\n",
    "        diff_exp_genes=set(diffexp_genes_fold_change_ph['{}_{}'.format(condition[1], condition[0])][up_or_dn])\n",
    "        print(gene_sets[gene_set])\n",
    "        fig=plt.figure()\n",
    "        ax=plt.gca()\n",
    "        venn2([gene_set_genes, diff_exp_genes], set_labels=[gene_set, 'our genes'], ax=ax)"
   ]
  },
  {
   "cell_type": "markdown",
   "id": "9012f999",
   "metadata": {},
   "source": [
    "# Compare ANOVA with no post-hoc analysis to ANVOA with post-hoc analysis (Remove ?)"
   ]
  },
  {
   "cell_type": "code",
   "execution_count": null,
   "id": "9d1e1a8c",
   "metadata": {
    "scrolled": false
   },
   "outputs": [],
   "source": [
    "for comparison in diffexp_fold_change_ph:\n",
    "    condition=comparison.split('_')\n",
    "    if condition[0]=='Control':\n",
    "        for up_or_dn in ['up', 'dn']:\n",
    "        \n",
    "            deg_a=set(diffexp_fold_change[condition[1]][up_or_dn])\n",
    "            deg_b=set(diffexp_fold_change_ph[comparison][up_or_dn])\n",
    "            \n",
    "            print('{}_{}'.format(comparison, up_or_dn))\n",
    "            \n",
    "            fig=plt.figure()\n",
    "            ax=plt.gca()\n",
    "            venn2([deg_a, deg_b], set_labels=['No post-hoc', 'With post-hoc'], ax=ax)            "
   ]
  },
  {
   "cell_type": "markdown",
   "id": "1619edf3",
   "metadata": {},
   "source": [
    "# Create Volcano Plots (Using post-hoc p-values)"
   ]
  },
  {
   "cell_type": "code",
   "execution_count": null,
   "id": "25c263c4",
   "metadata": {
    "scrolled": false
   },
   "outputs": [],
   "source": [
    "#These volcano plots look unusual because we have only plotted genes we have already determined to be significant \n",
    "#through Tukey.\n",
    "\n",
    "for condition in post_hoc_fold_change_df:\n",
    "    \n",
    "    volcano_plot_df=pd.DataFrame([pd.Series(-np.log10(post_hoc_fold_change_df[condition]), name='-log(Fold Change)'), \n",
    "                                  pd.Series(-np.log10(post_hoc_diff_df[condition]), name='-log(p)')]\n",
    "                                 )\n",
    "    \n",
    "    volcano_plot_df.columns=[probe_key[i] for i in volcano_plot_df.columns]\n",
    "    \n",
    "    volcano_plot_df=volcano_plot_df.T\n",
    "    \n",
    "    volcano_plot_df['hover_text_labels']=volcano_plot_df.index\n",
    "    \n",
    "    fig=px.scatter(volcano_plot_df, x='-log(Fold Change)', y='-log(p)', hover_data=['hover_text_labels'], title=condition)\n",
    "    fig.show()"
   ]
  },
  {
   "cell_type": "markdown",
   "id": "4c1ab55c",
   "metadata": {},
   "source": [
    "# Probe IL2/15/21 Essentiality in DepMap/CCLE"
   ]
  },
  {
   "cell_type": "code",
   "execution_count": null,
   "id": "a4c7fc6c",
   "metadata": {},
   "outputs": [],
   "source": [
    "dm_sample_info=pd.read_csv('../data/dm_sample_info.csv', index_col=0)\n",
    "dm_gene_expression=pd.read_csv('../data/CCLE_expression.csv', index_col=0)"
   ]
  },
  {
   "cell_type": "code",
   "execution_count": null,
   "id": "314adf84",
   "metadata": {},
   "outputs": [],
   "source": [
    "cks=['IL2', 'IL15', 'IL21']"
   ]
  },
  {
   "cell_type": "code",
   "execution_count": null,
   "id": "2d6f2835",
   "metadata": {},
   "outputs": [],
   "source": [
    "lineage=dm_sample_info['lineage']"
   ]
  },
  {
   "cell_type": "code",
   "execution_count": null,
   "id": "a166abe9",
   "metadata": {},
   "outputs": [],
   "source": [
    "dm_gene_expression.columns=[i.split(' ')[0] for i in dm_gene_expression.columns]"
   ]
  },
  {
   "cell_type": "code",
   "execution_count": null,
   "id": "5dd1d520",
   "metadata": {},
   "outputs": [],
   "source": [
    "dm_gene_expression_oi=dm_gene_expression.loc[:,cks]"
   ]
  },
  {
   "cell_type": "code",
   "execution_count": null,
   "id": "9c14a30f",
   "metadata": {},
   "outputs": [],
   "source": [
    "dependency=pd.read_csv('../data/CRISPR_gene_dependency.csv', index_col=0)"
   ]
  },
  {
   "cell_type": "code",
   "execution_count": null,
   "id": "ce5615a6",
   "metadata": {},
   "outputs": [],
   "source": [
    "dependency"
   ]
  },
  {
   "cell_type": "markdown",
   "id": "c546bf45",
   "metadata": {},
   "source": [
    "### Make one histogram with all cytokines"
   ]
  },
  {
   "cell_type": "code",
   "execution_count": null,
   "id": "f9d4c954",
   "metadata": {},
   "outputs": [],
   "source": [
    "#append values into a format plotly express will take\n",
    "\n",
    "values=[]\n",
    "labels=[]\n",
    "index=[]\n",
    "\n",
    "for ck in cks:\n",
    "    values+=[*dm_gene_expression[ck].values]\n",
    "    labels+=[ck]*dm_gene_expression[ck].shape[0]"
   ]
  },
  {
   "cell_type": "code",
   "execution_count": null,
   "id": "c5209c67",
   "metadata": {},
   "outputs": [],
   "source": [
    "big_px_df=pd.DataFrame([values, labels], index=['gene_expression', 'gene'], dtype=float)"
   ]
  },
  {
   "cell_type": "code",
   "execution_count": null,
   "id": "36fb4e5f",
   "metadata": {},
   "outputs": [],
   "source": [
    "px.histogram(data_frame=big_px_df.T, x='gene_expression', color='gene', barmode='overlay', title=\"Average Cytokine Gene Expression\")"
   ]
  },
  {
   "cell_type": "code",
   "execution_count": null,
   "id": "217dedf7",
   "metadata": {},
   "outputs": [],
   "source": [
    "dm_gene_expression"
   ]
  },
  {
   "cell_type": "code",
   "execution_count": null,
   "id": "bf9b16a3",
   "metadata": {},
   "outputs": [],
   "source": [
    "dm_ge_x_lineage=dm_gene_expression.groupby(lineage).mean()"
   ]
  },
  {
   "cell_type": "code",
   "execution_count": null,
   "id": "fa0e7021",
   "metadata": {},
   "outputs": [],
   "source": [
    "values=[]\n",
    "labels=[]\n",
    "index=[]\n",
    "\n",
    "for ck in cks:\n",
    "    values+=[*dm_ge_x_lineage[ck].values]\n",
    "    labels+=[ck]*dm_ge_x_lineage[ck].shape[0]\n",
    "    index+=[*dm_ge_x_lineage.index]"
   ]
  },
  {
   "cell_type": "code",
   "execution_count": null,
   "id": "8a789a23",
   "metadata": {},
   "outputs": [],
   "source": [
    "big_px_df=pd.DataFrame([values, labels, index], index=['average_gene_expression', 'gene', 'tissue_lineage'], dtype=float)"
   ]
  },
  {
   "cell_type": "code",
   "execution_count": null,
   "id": "b0debef9",
   "metadata": {
    "scrolled": false
   },
   "outputs": [],
   "source": [
    "px.bar(data_frame=big_px_df.T, x='tissue_lineage', y='average_gene_expression', color='gene', barmode='overlay', title='Average Cytokine Gene Expression by Tissue Lineage', height=1000)"
   ]
  },
  {
   "cell_type": "code",
   "execution_count": null,
   "id": "ebb6e9f3",
   "metadata": {},
   "outputs": [],
   "source": [
    "#append values into a format plotly express will take\n",
    "\n",
    "values=[]\n",
    "labels=[]\n",
    "index=[]\n",
    "\n",
    "for ck in cks:\n",
    "    values+=[*dependency[ck].values]\n",
    "    labels+=[ck]*dependency[ck].shape[0]"
   ]
  },
  {
   "cell_type": "code",
   "execution_count": null,
   "id": "7cb1b522",
   "metadata": {},
   "outputs": [],
   "source": [
    "big_px_df=pd.DataFrame([values, labels], index=['gene_dependency_score', 'gene'], dtype=float)"
   ]
  },
  {
   "cell_type": "code",
   "execution_count": null,
   "id": "e6070cc9",
   "metadata": {},
   "outputs": [],
   "source": [
    "px.histogram(data_frame=big_px_df.T, x='gene_dependency_score', color='gene', barmode='overlay', title='Cytokine Gene Dependency Score')"
   ]
  },
  {
   "cell_type": "code",
   "execution_count": null,
   "id": "80250d08",
   "metadata": {},
   "outputs": [],
   "source": [
    "dm_dep_x_lineage=dependency.groupby(lineage).mean()"
   ]
  },
  {
   "cell_type": "code",
   "execution_count": null,
   "id": "59fcbbdc",
   "metadata": {},
   "outputs": [],
   "source": [
    "values=[]\n",
    "labels=[]\n",
    "index=[]\n",
    "\n",
    "for ck in cks:\n",
    "    values+=[*dm_dep_x_lineage[ck].values]\n",
    "    labels+=[ck]*dm_dep_x_lineage[ck].shape[0]\n",
    "    index+=[*dm_dep_x_lineage.index]"
   ]
  },
  {
   "cell_type": "code",
   "execution_count": null,
   "id": "afb3fb8d",
   "metadata": {},
   "outputs": [],
   "source": [
    "big_px_df=pd.DataFrame([values, labels, index], index=['average_gene_dependency', 'gene', 'tissue_lineage'], dtype=float)"
   ]
  },
  {
   "cell_type": "code",
   "execution_count": null,
   "id": "3b131b98",
   "metadata": {},
   "outputs": [],
   "source": [
    "px.bar(data_frame=big_px_df.T, x='tissue_lineage', y='average_gene_dependency', color='gene', barmode='overlay', title='Average Cytokine Gene  Dependency Score by Tissue Lineage', height=1000)"
   ]
  },
  {
   "cell_type": "markdown",
   "id": "c1eb77b2",
   "metadata": {},
   "source": [
    "### or make 3 different histograms - to see different things"
   ]
  },
  {
   "cell_type": "code",
   "execution_count": null,
   "id": "292fbb4b",
   "metadata": {},
   "outputs": [],
   "source": [
    "dm_gene_expression=dm_gene_expression.T"
   ]
  },
  {
   "cell_type": "code",
   "execution_count": null,
   "id": "9bc392f3",
   "metadata": {
    "scrolled": false
   },
   "outputs": [],
   "source": [
    "for ck in cks:\n",
    "\n",
    "    fig=px.histogram(data_frame=dm_gene_expression.loc[ck].to_frame(), x=ck, range_x=[0,8], nbins=200, title='{}: {}'.format(ck, 'Gene Expression'), labels={ck: 'Gene Expression Value'})\n",
    "\n",
    "    fig.show()\n",
    "    \n",
    "    fig=px.bar(dm_gene_expression.T.groupby(lineage).mean().loc[:, ck], title='Average {} Expression by Tissue Lineage'.format(ck))\n",
    "    fig.show()"
   ]
  },
  {
   "cell_type": "code",
   "execution_count": null,
   "id": "caaf6fc3",
   "metadata": {},
   "outputs": [],
   "source": [
    "dependency=dependency.T"
   ]
  },
  {
   "cell_type": "code",
   "execution_count": null,
   "id": "449bdb5c",
   "metadata": {
    "scrolled": true
   },
   "outputs": [],
   "source": [
    "for ck in cks:\n",
    "\n",
    "    fig=px.histogram(x=dependency.loc[ck].values, range_x=[0,1], nbins=200, title='{}: {}'.format(ck, 'Dependency'))\n",
    "\n",
    "    fig.show()\n",
    "    \n",
    "    fig=px.bar(dependency.T.groupby(lineage).mean().loc[:, ck], title='Average {} Dependency by Tissue Lineage'.format(ck))\n",
    "    fig.show()"
   ]
  }
 ],
 "metadata": {
  "kernelspec": {
   "display_name": "Python 3",
   "language": "python",
   "name": "python3"
  },
  "language_info": {
   "codemirror_mode": {
    "name": "ipython",
    "version": 3
   },
   "file_extension": ".py",
   "mimetype": "text/x-python",
   "name": "python",
   "nbconvert_exporter": "python",
   "pygments_lexer": "ipython3",
   "version": "3.9.0"
  }
 },
 "nbformat": 4,
 "nbformat_minor": 5
}
