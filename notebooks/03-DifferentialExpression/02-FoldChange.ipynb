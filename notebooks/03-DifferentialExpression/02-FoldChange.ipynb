{
 "cells": [
  {
   "cell_type": "markdown",
   "metadata": {},
   "source": [
    "# Fold Change\n",
    "Looking for fold change of two or higher."
   ]
  },
  {
   "cell_type": "code",
   "execution_count": null,
   "metadata": {},
   "outputs": [],
   "source": [
    "import json, pickle\n",
    "\n",
    "import pandas as pd"
   ]
  },
  {
   "cell_type": "markdown",
   "metadata": {},
   "source": [
    "## 1. Load Data and Experimental Groups"
   ]
  },
  {
   "cell_type": "code",
   "execution_count": null,
   "metadata": {},
   "outputs": [],
   "source": [
    "present_transcripts_df = pd.read_csv('../../data/expression_by_probe.csv', index_col=0)\n",
    "probe_key = pickle.load(open('../../data/probe_key.p', 'rb'))\n",
    "experimental_groups = json.load(open('../../data/experimental_groups.json'))\n",
    "post_hoc_diff_dict = json.load(open('../../results/post_hoc_diff_dict.json'))"
   ]
  },
  {
   "cell_type": "markdown",
   "metadata": {},
   "source": [
    "## 2. Calculate Fold Change for All"
   ]
  },
  {
   "cell_type": "code",
   "execution_count": null,
   "metadata": {},
   "outputs": [],
   "source": [
    "post_hoc_fold_change_dict = {}\n",
    "\n",
    "# Do for each comparison\n",
    "for comparison in post_hoc_diff_dict:\n",
    "    # Get the conditions\n",
    "    condA = comparison.split('_')[0]\n",
    "    condB = comparison.split('_')[1]\n",
    "    \n",
    "    # Calculate Fold Change\n",
    "    original_val = present_transcripts_df.loc[:,experimental_groups[condA]].T.mean()\n",
    "    new_val = present_transcripts_df.loc[:,experimental_groups[condB]].T.mean()\n",
    "    post_hoc_fold_change_dict[comparison] = new_val / original_val"
   ]
  },
  {
   "cell_type": "markdown",
   "metadata": {},
   "source": [
    "Make it a DataFrame"
   ]
  },
  {
   "cell_type": "code",
   "execution_count": null,
   "metadata": {},
   "outputs": [],
   "source": [
    "post_hoc_fold_change_df=pd.DataFrame(post_hoc_fold_change_dict)\n",
    "post_hoc_fold_change_df"
   ]
  },
  {
   "cell_type": "code",
   "execution_count": null,
   "metadata": {},
   "outputs": [],
   "source": [
    "diffexp_fold_change_ph={}\n",
    "  \n",
    "for condition in post_hoc_diff_dict:\n",
    "\n",
    "    diffexp_fold_change_ph[condition]={\n",
    "        'up':[],\n",
    "        'dn':[]\n",
    "    }\n",
    "    for transcript in post_hoc_diff_dict[condition]:\n",
    "        #Note that this fold change is for condition 2 relative to condition 1 in 1_2\n",
    "        fold_change=post_hoc_fold_change_df.loc[transcript, condition]\n",
    "        if fold_change > 2:\n",
    "            diffexp_fold_change_ph[condition]['up'].append(transcript)\n",
    "\n",
    "        elif fold_change < 0.5:\n",
    "            diffexp_fold_change_ph[condition]['dn'].append(transcript)\n"
   ]
  },
  {
   "cell_type": "code",
   "execution_count": null,
   "metadata": {},
   "outputs": [],
   "source": [
    "#Change probe names to gene names\n",
    "diffexp_genes_fold_change_ph={}\n",
    "\n",
    "for condition in diffexp_fold_change_ph:\n",
    "    \n",
    "    diffexp_genes_fold_change_ph[condition]={}\n",
    "    \n",
    "    for up_or_dn in diffexp_fold_change_ph[condition]:\n",
    "        \n",
    "        #There are probes that map to multiple gene symbols, so we use nested list comprehension and change it to a \n",
    "        #set to remove duplicates\n",
    "        diffexp_genes_fold_change_ph[condition][up_or_dn]=set([gene for i in diffexp_fold_change_ph[condition][up_or_dn] \n",
    "                                                        for gene in probe_key[i]])"
   ]
  },
  {
   "cell_type": "code",
   "execution_count": null,
   "metadata": {},
   "outputs": [],
   "source": [
    "for condition in diffexp_genes_fold_change_ph:\n",
    "    for up_or_dn in diffexp_genes_fold_change_ph[condition]:\n",
    "        print(f'{condition}_{up_or_dn}: {len(diffexp_genes_fold_change_ph[condition][up_or_dn])} genes')"
   ]
  },
  {
   "cell_type": "markdown",
   "metadata": {},
   "source": [
    "## 4. Save Results for Further Use"
   ]
  },
  {
   "cell_type": "code",
   "execution_count": null,
   "metadata": {},
   "outputs": [],
   "source": [
    "post_hoc_fold_change_df.to_csv('../../results/post_hoc_fold_change_df.csv')\n",
    "pickle.dump(diffexp_genes_fold_change_ph, open('../../results/diffexp_genes_fold_change_ph.p', 'wb'))"
   ]
  }
 ],
 "metadata": {
  "kernelspec": {
   "display_name": "Python 3 (ipykernel)",
   "language": "python",
   "name": "python3"
  },
  "language_info": {
   "codemirror_mode": {
    "name": "ipython",
    "version": 3
   },
   "file_extension": ".py",
   "mimetype": "text/x-python",
   "name": "python",
   "nbconvert_exporter": "python",
   "pygments_lexer": "ipython3",
   "version": "3.10.2"
  }
 },
 "nbformat": 4,
 "nbformat_minor": 4
}
