{
 "cells": [
  {
   "cell_type": "markdown",
   "metadata": {},
   "source": [
    "# Create Volcano Plots (Using post-hoc p-values)"
   ]
  },
  {
   "cell_type": "code",
   "execution_count": null,
   "metadata": {},
   "outputs": [],
   "source": [
    "import json\n",
    "\n",
    "import pandas as pd\n",
    "import numpy as np\n",
    "import plotly.express as px"
   ]
  },
  {
   "cell_type": "markdown",
   "metadata": {},
   "source": [
    "## 1. Load Data and Experimental Groups"
   ]
  },
  {
   "cell_type": "code",
   "execution_count": null,
   "metadata": {},
   "outputs": [],
   "source": [
    "post_hoc_fold_change_df = pd.read_csv('../../results/post_hoc_fold_change_df.csv', index_col=0)\n",
    "post_hoc_df = pd.DataFrame(json.load(open('../../results/post_hoc_dict.json')))"
   ]
  },
  {
   "cell_type": "markdown",
   "metadata": {},
   "source": [
    "## 2. Make a Volcano Plot for Each Condition\n",
    "For each condition, make a DataFrame with the log(fold change) and -log(p) from the post hoc p-value. (Why?)"
   ]
  },
  {
   "cell_type": "code",
   "execution_count": null,
   "metadata": {},
   "outputs": [],
   "source": [
    "for condition in post_hoc_fold_change_df:\n",
    "    # Build the relevant data into a DataFrame\n",
    "    volcano_plot_df = pd.DataFrame([\n",
    "        pd.Series(np.log2(post_hoc_fold_change_df[condition]), name='log2(Fold Change)'), \n",
    "        pd.Series(-np.log10(post_hoc_df[condition]), name='-log(p)')])\n",
    "    \n",
    "    # Transpose the DataFrame\n",
    "    volcano_plot_df = volcano_plot_df.T\n",
    "    \n",
    "    # Add an Index for labels\n",
    "    volcano_plot_df['hover_text_labels'] = volcano_plot_df.index\n",
    "    \n",
    "    # Make the Plot\n",
    "    fig=px.scatter(\n",
    "        volcano_plot_df,\n",
    "        x='log2(Fold Change)',\n",
    "        y='-log(p)',\n",
    "        hover_data=['hover_text_labels'],\n",
    "        title=condition)\n",
    "    fig.show()"
   ]
  }
 ],
 "metadata": {
  "kernelspec": {
   "display_name": "Python 3 (ipykernel)",
   "language": "python",
   "name": "python3"
  },
  "language_info": {
   "codemirror_mode": {
    "name": "ipython",
    "version": 3
   },
   "file_extension": ".py",
   "mimetype": "text/x-python",
   "name": "python",
   "nbconvert_exporter": "python",
   "pygments_lexer": "ipython3",
   "version": "3.10.2"
  }
 },
 "nbformat": 4,
 "nbformat_minor": 4
}
