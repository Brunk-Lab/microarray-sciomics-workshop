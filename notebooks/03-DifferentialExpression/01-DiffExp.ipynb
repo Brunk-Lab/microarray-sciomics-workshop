{
 "cells": [
  {
   "cell_type": "markdown",
   "metadata": {},
   "source": [
    "# Differential expression: Post-Hoc Analysis by using Pairwise Tukey\n",
    "An F-test will tell us whether there is a significant difference across several conditions, but it doesn't tell us which conditions are different. Typically we want to do a post hoc test to tell us which conditions are significantly different from one another."
   ]
  },
  {
   "cell_type": "code",
   "execution_count": 1,
   "metadata": {},
   "outputs": [],
   "source": [
    "import json\n",
    "\n",
    "import pandas as pd\n",
    "from statsmodels.stats.multicomp import pairwise_tukeyhsd"
   ]
  },
  {
   "cell_type": "markdown",
   "metadata": {},
   "source": [
    "## 1. Load Data and Experimental Groups"
   ]
  },
  {
   "cell_type": "code",
   "execution_count": 2,
   "metadata": {},
   "outputs": [],
   "source": [
    "present_transcripts_df = pd.read_csv('../../data/expression_by_probe.csv', index_col=0)\n",
    "diff_exp_genes_list = json.load(open('../../results/diff_exp_genes_list.json'))"
   ]
  },
  {
   "cell_type": "markdown",
   "metadata": {},
   "source": [
    "## 2. Significant Comparisons Extraction Function\n",
    "Parses results of statsmodels.stats.multicomp.pairwise_tukeyhsd for smoother processing of many \n",
    "comparisons at once. Returns pandas DataFrame with adjusted p-values for each combination of conditions."
   ]
  },
  {
   "cell_type": "code",
   "execution_count": 3,
   "metadata": {},
   "outputs": [],
   "source": [
    "def tukeyhsd_get_significant_comparisons(tukeyhsd_results, only_sig_comparisons=True):\n",
    "    '''\n",
    "    tukeyhsd_results - output of statsmodels.stats.multicomp.pairwise_tukeyhsd\n",
    "    include_CI - boolean value for whether to include the confidence interval\n",
    "    only_sig_comparisons - boolean value for whether to only include comparisons where we can\n",
    "                            reject the null hypothesis\n",
    "    '''\n",
    "\n",
    "    summary_df = pd.DataFrame(\n",
    "        tukeyhsd_results._results_table.data[1:], \n",
    "        columns=tukeyhsd_results._results_table.data[0])\n",
    "    \n",
    "    desired_comparisons = [True] if only_sig_comparisons else [True, False]  \n",
    "      \n",
    "    a = summary_df.loc[:,['p-adj', 'reject']]\n",
    "        \n",
    "    # Add the Confidence Interval        \n",
    "    a['CI'] = [[i[0] for i in zip(summary_df.loc[j, ['lower', 'upper']])] for j in summary_df.index]\n",
    "      \n",
    "    a.index = [i+'_'+j for i,j in summary_df.loc[:,['group1', 'group2']].values]\n",
    "        \n",
    "    return a.loc[[True if i in desired_comparisons else False for i in summary_df['reject']]]"
   ]
  },
  {
   "cell_type": "markdown",
   "metadata": {},
   "source": [
    "## 3. Get the Significant Results"
   ]
  },
  {
   "cell_type": "code",
   "execution_count": 4,
   "metadata": {},
   "outputs": [],
   "source": [
    "post_hoc_diff_dict = {}\n",
    "post_hoc_dict = {}\n",
    "\n",
    "for transcript in diff_exp_genes_list:\n",
    "    # Use Statsmodels to do the actual math\n",
    "    tukey_summary = pairwise_tukeyhsd(\n",
    "        present_transcripts_df.loc[transcript].to_numpy(),\n",
    "        ['Control'] * 3 + ['IL2'] * 3 + ['IL15'] * 3 + ['IL21'] * 3,\n",
    "        alpha=0.01)\n",
    "\n",
    "    # Statsmodels' pairwise_tukeyhsd returns very difficult to interpret results\n",
    "    # We thus have another function to extract the relevant information from these results\n",
    "    tukey_results = tukeyhsd_get_significant_comparisons(tukey_summary)\n",
    "    # We also want the non significant comparisons so we can make a volcano plot later\n",
    "    tukey_results_w_rejected = tukeyhsd_get_significant_comparisons(tukey_summary, only_sig_comparisons=False)\n",
    "    \n",
    "    # Make dict with only significant results so we can look at them\n",
    "    for comparison in tukey_results.index:\n",
    "        if not comparison in post_hoc_diff_dict:\n",
    "            post_hoc_diff_dict[comparison] = {}\n",
    "        post_hoc_diff_dict[comparison][transcript] = tukey_results.loc[comparison, 'p-adj']\n",
    "    \n",
    "    # Make a dict with rejected transcript included for later volcano plots    \n",
    "    for comparison in tukey_results_w_rejected.index:\n",
    "        if not comparison in post_hoc_dict:\n",
    "            post_hoc_dict[comparison] = {}\n",
    "        post_hoc_dict[comparison][transcript] = tukey_results_w_rejected.loc[comparison, 'p-adj']"
   ]
  },
  {
   "cell_type": "markdown",
   "metadata": {},
   "source": [
    "### Significant differentially expressed genes after post hoc analysis:"
   ]
  },
  {
   "cell_type": "code",
   "execution_count": 5,
   "metadata": {},
   "outputs": [
    {
     "name": "stdout",
     "output_type": "stream",
     "text": [
      "Control_IL15: 1678 genes\n",
      "IL15_IL21: 1446 genes\n",
      "Control_IL2: 1737 genes\n",
      "IL2_IL21: 1519 genes\n",
      "IL15_IL2: 44 genes\n",
      "Control_IL21: 192 genes\n"
     ]
    }
   ],
   "source": [
    "for condition in post_hoc_diff_dict:\n",
    "    print(f'{condition}: {len(post_hoc_diff_dict[condition])} genes')"
   ]
  },
  {
   "cell_type": "markdown",
   "metadata": {},
   "source": [
    "## 4. Save Results for Further Use"
   ]
  },
  {
   "cell_type": "code",
   "execution_count": 6,
   "metadata": {},
   "outputs": [],
   "source": [
    "json.dump(post_hoc_diff_dict, open('../../results/post_hoc_diff_dict.json', 'w'), indent=2)\n",
    "json.dump(post_hoc_dict, open('../../results/post_hoc_dict.json', 'w'), indent=2)"
   ]
  }
 ],
 "metadata": {
  "kernelspec": {
   "display_name": "Python 3 (ipykernel)",
   "language": "python",
   "name": "python3"
  },
  "language_info": {
   "codemirror_mode": {
    "name": "ipython",
    "version": 3
   },
   "file_extension": ".py",
   "mimetype": "text/x-python",
   "name": "python",
   "nbconvert_exporter": "python",
   "pygments_lexer": "ipython3",
   "version": "3.10.2"
  }
 },
 "nbformat": 4,
 "nbformat_minor": 4
}
