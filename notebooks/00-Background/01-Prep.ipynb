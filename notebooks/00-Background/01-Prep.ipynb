{
 "cells": [
  {
   "cell_type": "markdown",
   "metadata": {},
   "source": [
    "# Setup for Workshop"
   ]
  },
  {
   "cell_type": "code",
   "execution_count": 1,
   "metadata": {},
   "outputs": [],
   "source": [
    "import os, glob, gzip, shutil"
   ]
  },
  {
   "cell_type": "markdown",
   "metadata": {},
   "source": [
    "## Extract the Data\n",
    "To save space, files are often compressed. This is the case for most of our included data. It all needs to be extracted."
   ]
  },
  {
   "cell_type": "code",
   "execution_count": 3,
   "metadata": {},
   "outputs": [],
   "source": [
    "for gz_fn in glob.glob('../../data/*.gz'):\n",
    "    if not os.path.exists(gz_fn[:-3]):\n",
    "        with gzip.open(gz_fn, 'rb') as f_in, open(gz_fn[:-3], 'wb') as f_out:\n",
    "            shutil.copyfileobj(f_in, f_out)"
   ]
  }
 ],
 "metadata": {
  "interpreter": {
   "hash": "455ea68ef66788c17e8e76bb0bd125a84aa719960da5e8e99e8aefd50986211c"
  },
  "kernelspec": {
   "display_name": "Python 3.10.2 64-bit ('microarray': conda)",
   "language": "python",
   "name": "python3"
  },
  "language_info": {
   "codemirror_mode": {
    "name": "ipython",
    "version": 3
   },
   "file_extension": ".py",
   "mimetype": "text/x-python",
   "name": "python",
   "nbconvert_exporter": "python",
   "pygments_lexer": "ipython3",
   "version": "3.10.2"
  }
 },
 "nbformat": 4,
 "nbformat_minor": 4
}
