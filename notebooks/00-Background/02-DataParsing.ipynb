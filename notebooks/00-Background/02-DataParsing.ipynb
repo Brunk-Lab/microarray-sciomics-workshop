{
 "cells": [
  {
   "cell_type": "markdown",
   "metadata": {},
   "source": [
    "# Data Parsing\n",
    "\n",
    "This code builds some helpful object for the analysis out of the raw data files. It is provided mostly for reference.\n"
   ]
  },
  {
   "cell_type": "code",
   "execution_count": null,
   "id": "4d331321",
   "metadata": {},
   "outputs": [],
   "source": [
    "import json, pickle\n",
    "import pandas as pd"
   ]
  },
  {
   "cell_type": "markdown",
   "metadata": {},
   "source": [
    "## 1. Parse Relevant Info From the `soft` File\n",
    "\n",
    "To save space, files are often compressed. This is the case for most of our included data. It all needs to be extracted.\n"
   ]
  },
  {
   "cell_type": "code",
   "execution_count": null,
   "id": "69137592",
   "metadata": {},
   "outputs": [],
   "source": [
    "with open(\"../../data/GSE8685_family.soft\") as f:\n",
    "    lines = f.readlines()\n",
    "\n",
    "    on_expression_table = False\n",
    "    on_platform_table = False\n",
    "    on_sample = False\n",
    "\n",
    "    sample = \"\"\n",
    "    sample_key = {}\n",
    "\n",
    "    probe_key = {}\n",
    "    expression_table = {}\n",
    "    p_val_table = {}\n",
    "    transcript_table = {}\n",
    "    abs_call_table = {}\n",
    "\n",
    "    for line in lines:\n",
    "\n",
    "        line = line.strip()\n",
    "\n",
    "        if line == \"!platform_table_begin\":\n",
    "            on_platform_table = True\n",
    "            continue\n",
    "\n",
    "        elif line == \"!platform_table_end\":\n",
    "            on_platform_table = False\n",
    "            continue\n",
    "\n",
    "        elif line == \"!sample_table_begin\":\n",
    "            on_expression_table = True\n",
    "            continue\n",
    "\n",
    "        elif line == \"!sample_table_end\":\n",
    "            on_expression_table = False\n",
    "            continue\n",
    "\n",
    "        elif line.split(\" = \")[0] == \"^SAMPLE\":\n",
    "            sample = line.split(\" = \")[1]\n",
    "            expression_table[sample] = {}\n",
    "            transcript_table[sample] = {}\n",
    "            p_val_table[sample] = {}\n",
    "            abs_call_table[sample] = {}\n",
    "            continue\n",
    "\n",
    "        elif line.split(\" = \")[0] == \"!Sample_title\":\n",
    "            sample_key[sample] = line.split(\" = \")[1]\n",
    "            continue\n",
    "\n",
    "        line = line.strip().split(\"\\t\")\n",
    "\n",
    "        if on_platform_table:\n",
    "            if len(line) < 10:\n",
    "                if line[5] == \"\":\n",
    "                    print(line)\n",
    "                probe_key[line[0]] = line[5]\n",
    "                continue\n",
    "\n",
    "            else:\n",
    "                gene_ids = line[10].split(\" /// \")\n",
    "\n",
    "                probe_key[line[0]] = gene_ids\n",
    "                continue\n",
    "\n",
    "        elif on_expression_table:\n",
    "            if sample == \"\":\n",
    "                print(line)\n",
    "            if line[0] == \"ID_REF\":\n",
    "                continue\n",
    "            else:\n",
    "                value = line[1]\n",
    "                p_val = line[3]\n",
    "                abs_call = line[2]\n",
    "                probe_id = line[0]\n",
    "                gene_names = probe_key[probe_id]\n",
    "                if type(gene_names) == list:\n",
    "                    for gene_name in gene_names:\n",
    "                        if not gene_name in expression_table[sample]:\n",
    "                            expression_table[sample][gene_name] = [float(value)]\n",
    "                        else:\n",
    "                            expression_table[sample][gene_name].append(float(value))\n",
    "\n",
    "                else:\n",
    "                    if not gene_names in expression_table[sample]:\n",
    "                        expression_table[sample][gene_names] = [float(value)]\n",
    "                    else:\n",
    "                        expression_table[sample][gene_names].append(float(value))\n",
    "                p_val_table[sample][probe_id] = float(p_val)\n",
    "                abs_call_table[sample][probe_id] = 1 if abs_call == \"P\" else 0\n",
    "                transcript_table[sample][probe_id] = float(value)"
   ]
  },
  {
   "cell_type": "markdown",
   "metadata": {},
   "source": [
    "## 2. Save the Transcripts Table\n"
   ]
  },
  {
   "cell_type": "code",
   "execution_count": null,
   "id": "dfbd9139",
   "metadata": {},
   "outputs": [],
   "source": [
    "transcript_df = pd.DataFrame(transcript_table).dropna()\n",
    "transcript_df.to_csv(\"../../data/Microarray_Data.csv\")"
   ]
  },
  {
   "cell_type": "markdown",
   "metadata": {},
   "source": [
    "## 3. Find Which Transcripts Are Present and Save Them\n"
   ]
  },
  {
   "cell_type": "code",
   "execution_count": null,
   "id": "efcacbb1",
   "metadata": {},
   "outputs": [],
   "source": [
    "# Bring in the defined experimental groups\n",
    "experimental_groups = json.load(open(\"../../data/experimental_groups.json\"))"
   ]
  },
  {
   "cell_type": "code",
   "execution_count": null,
   "id": "2393f007",
   "metadata": {},
   "outputs": [],
   "source": [
    "# Make them a DataFrame for easier parsing\n",
    "abs_call_df = pd.DataFrame(abs_call_table)\n",
    "abs_call_df"
   ]
  },
  {
   "cell_type": "markdown",
   "metadata": {},
   "source": [
    "Actually go through all of them and pull out the present ones"
   ]
  },
  {
   "cell_type": "code",
   "execution_count": null,
   "metadata": {},
   "outputs": [],
   "source": [
    "present_transcripts = set()\n",
    "for transcript in abs_call_df.index:\n",
    "    for condition in experimental_groups:\n",
    "        if abs_call_df.loc[transcript, experimental_groups[condition]].sum() == 3:\n",
    "            present_transcripts.add(transcript)\n",
    "            break\n",
    "len(present_transcripts)"
   ]
  },
  {
   "cell_type": "markdown",
   "metadata": {},
   "source": [
    "Save them to a table after filtering"
   ]
  },
  {
   "cell_type": "code",
   "execution_count": null,
   "metadata": {},
   "outputs": [],
   "source": [
    "present_transcripts_df = transcript_df.loc[present_transcripts]\n",
    "present_transcripts_df.to_csv(\"../../data/expression_by_probe.csv\")\n",
    "present_transcripts_df"
   ]
  },
  {
   "cell_type": "markdown",
   "metadata": {},
   "source": [
    "## 4. Save the Probe Key"
   ]
  },
  {
   "cell_type": "code",
   "execution_count": null,
   "id": "996d3301",
   "metadata": {},
   "outputs": [],
   "source": [
    "# Get all the probes from \n",
    "for probe in probe_key:\n",
    "    if type(probe_key[probe]) != list:\n",
    "        probe_key[probe] = [probe_key[probe]]"
   ]
  },
  {
   "cell_type": "code",
   "execution_count": null,
   "id": "11978f0b",
   "metadata": {},
   "outputs": [],
   "source": [
    "pickle.dump(probe_key, open(\"../../data/probe_key.p\", \"wb\"))"
   ]
  }
 ],
 "metadata": {
  "interpreter": {
   "hash": "455ea68ef66788c17e8e76bb0bd125a84aa719960da5e8e99e8aefd50986211c"
  },
  "kernelspec": {
   "display_name": "Python 3.10.2 ('microarray')",
   "language": "python",
   "name": "python3"
  },
  "language_info": {
   "codemirror_mode": {
    "name": "ipython",
    "version": 3
   },
   "file_extension": ".py",
   "mimetype": "text/x-python",
   "name": "python",
   "nbconvert_exporter": "python",
   "pygments_lexer": "ipython3",
   "version": "3.10.2"
  },
  "orig_nbformat": 4
 },
 "nbformat": 4,
 "nbformat_minor": 2
}
